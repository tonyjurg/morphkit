{
 "cells": [
  {
   "cell_type": "markdown",
   "id": "a6174de4-334c-4ba9-9e86-0f73bf1089a4",
   "metadata": {},
   "source": [
    "# Third party licences and SBOM"
   ]
  },
  {
   "cell_type": "markdown",
   "id": "f89c3ab4-830f-4ac1-a10b-58801f31faf6",
   "metadata": {
    "tags": []
   },
   "source": [
    "## Table of content (ToC)<a class=\"anchor\" id=\"TOC\"></a>\n",
    "* <a href=\"#bullet1\">1 - Introduction</a>\n",
    "* <a href=\"#bullet2\">2 - Generating the license details</a>\n",
    "    * <a href=\"#bullet2x1\">2.1 - Installing pip-licenses</a>\n",
    "    * <a href=\"#bullet2x2\">2.2 - Create an overview of licenses</a> \n",
    "    * <a href=\"#bullet2x3\">2.3 - Create the full SBOM</a>\n",
    "    * <a href=\"#bullet2x4\">2.4 - Make SBOM based on requirements.txt</a>\n",
    "    * <a href=\"#bullet2x5\">2.5 - Verify the dependency graph</a>\n",
    "* <a href=\"#bullet4\">4 - Attribution and footnotes</a>\n",
    "* <a href=\"#bullet5\">5 - Required libraries</a>\n",
    "* <a href=\"#bullet6\">6 - Notebook version</a>\n"
   ]
  },
  {
   "cell_type": "markdown",
   "id": "2e8d4122-a1c6-4f49-beae-200afd3632df",
   "metadata": {},
   "source": [
    "#  1 - Introduction <a class=\"anchor\" id=\"bullet1\"></a>\n",
    "##### [Back to ToC](#TOC)"
   ]
  },
  {
   "cell_type": "markdown",
   "id": "f70d0ed1-bbc5-47a9-9550-e86461ee1f52",
   "metadata": {},
   "source": [
    "This notebook automates the collection of license details for the third party libraries used by Morphkit."
   ]
  },
  {
   "cell_type": "markdown",
   "id": "fa27cdf7-24cf-4cb2-99be-f844710e9223",
   "metadata": {},
   "source": [
    "# 2 - Generating the license details<a class=\"anchor\" id=\"bullet2\"></a>\n",
    "##### [Back to ToC](#TOC)"
   ]
  },
  {
   "cell_type": "markdown",
   "id": "a87de366-00df-4bce-81a8-0076b4d1431b",
   "metadata": {},
   "source": [
    "## 2.1 - Installing pip-licenses <a class=\"anchor\" id=\"bullet2x1\"></a>"
   ]
  },
  {
   "cell_type": "markdown",
   "id": "daf6a8f1-1f9d-42e7-8129-7474476ae806",
   "metadata": {},
   "source": [
    "In this notebook I do rely on the metadata used by `pip` as being authorative. In order to access it in an automated manner, I do need the package 'pip-licenses' being installed in my active environment. The following cell only requires to be run once within a specific Conda environment."
   ]
  },
  {
   "cell_type": "raw",
   "id": "29bce13b-6e05-4476-84ff-4c05f30f95c3",
   "metadata": {},
   "source": [
    "!pip install pip-licenses"
   ]
  },
  {
   "cell_type": "raw",
   "id": "75fccbd8-e093-4b0d-97bf-b66e292893a8",
   "metadata": {},
   "source": [
    "Collecting pip-licenses\n",
    "  Downloading pip_licenses-5.0.0-py3-none-any.whl.metadata (32 kB)\n",
    "Collecting prettytable>=2.3.0 (from pip-licenses)\n",
    "  Downloading prettytable-3.16.0-py3-none-any.whl.metadata (33 kB)\n",
    "Requirement already satisfied: tomli>=2 in c:\\users\\tonyj\\anaconda3\\envs\\text-fabric\\lib\\site-packages (from pip-licenses) (2.0.2)\n",
    "Requirement already satisfied: wcwidth in c:\\users\\tonyj\\anaconda3\\envs\\text-fabric\\lib\\site-packages (from prettytable>=2.3.0->pip-licenses) (0.2.13)\n",
    "Downloading pip_licenses-5.0.0-py3-none-any.whl (20 kB)\n",
    "Downloading prettytable-3.16.0-py3-none-any.whl (33 kB)\n",
    "Installing collected packages: prettytable, pip-licenses\n",
    "Successfully installed pip-licenses-5.0.0 prettytable-3.16.0"
   ]
  },
  {
   "cell_type": "markdown",
   "id": "2b6040e1-0632-4dcf-be72-3e44cb9cce91",
   "metadata": {},
   "source": [
    "## 2.2 - Create an overview of licenses <a class=\"anchor\" id=\"bullet2x2\"></a>"
   ]
  },
  {
   "cell_type": "markdown",
   "id": "2ca4bcdc-8463-4875-88c3-1a02b65372e7",
   "metadata": {},
   "source": [
    "Loop over third_party with distribution(); treat stdlib as “Python Software License / PSF License”. This will provide"
   ]
  },
  {
   "cell_type": "code",
   "execution_count": 7,
   "id": "6e063bc1-f587-423b-8c6a-cce66c524880",
   "metadata": {},
   "outputs": [],
   "source": [
    "stdlib = {\"typing\", \"re\", \"pprint\", \"copy\", \"time\", \"urllib.parse\"}\n",
    "third_party = {\"betacode\", \"requests\"}\n",
    "\n",
    "import sys, importlib.util, importlib.metadata as im\n",
    "\n",
    "def is_stdlib(module_name):\n",
    "    return module_name in sys.stdlib_module_names\n",
    "\n",
    "def record_for(name):\n",
    "    if is_stdlib(name.split('.')[0]):                 # handle sub-modules\n",
    "        return {\"name\": name, \"version\": sys.version.split()[0],\n",
    "                \"license\": \"Python Software License\"}\n",
    "    try:\n",
    "        dist = im.distribution(name.replace('-', '_'))\n",
    "        return {\"name\": dist.metadata[\"Name\"],\n",
    "                \"version\": dist.version,\n",
    "                \"license\": dist.metadata.get(\"License\", \"\")}\n",
    "    except im.PackageNotFoundError:\n",
    "        return {\"name\": name, \"error\": \"not installed\"}\n"
   ]
  },
  {
   "cell_type": "code",
   "execution_count": 1,
   "id": "2c7ad047-cf75-4ca7-bba0-8d2cde6eeec4",
   "metadata": {},
   "outputs": [
    {
     "name": "stdout",
     "output_type": "stream",
     "text": [
      "[\n",
      "  {\n",
      "    \"name\": \"beta-code\",\n",
      "    \"kind\": \"third-party\",\n",
      "    \"version\": \"1.1.0\",\n",
      "    \"summary\": \"Converts Greek Beta Code to Greek characters and vice versa\",\n",
      "    \"home_page\": \"https://github.com/perseids-tools/beta-code-py\",\n",
      "    \"license\": \"UNKNOWN\",\n",
      "    \"license_text\": \"The MIT License (MIT)\\n\\nCopyright (c) 2018\\n\\nPermission is hereby granted, free of charge, to any person obtaining a copy\\nof this software and associated documentation files (the \\\"Software\\\"), to deal\\nin the Software without restriction, including without limitation the rights\\nto use, copy, modify, merge, publish, distribute, sublicense, and/or sell\\ncopies of the Software, and to permit persons to whom the Software is\\nfurnished to do so, subject to the following conditions:\\n\\nThe above copyright notice and this permission notice shall be included in all\\ncopies or substantial portions of the Software.\\n\\nTHE SOFTWARE IS PROVIDED \\\"AS IS\\\", WITHOUT WARRANTY OF ANY KIND, EXPRESS OR\\nIMPLIED, INCLUDING BUT NOT LIMITED TO THE WARRANTIES OF MERCHANTABILITY,\\nFITNESS FOR A PARTICULAR PURPOSE AND NONINFRINGEMENT. IN NO EVENT SHALL THE\\nAUTHORS OR COPYRIGHT HOLDERS BE LIABLE FOR ANY CLAIM, DAMAGES OR OTHER\\nLIABILITY, WHETHER IN AN ACTION OF CONTRACT, TORT OR OTHERWISE, ARISING FROM,\\nOUT OF OR IN CONNECTION WITH THE SOFTWARE OR THE USE OR OTHER DEALINGS IN THE\\nSOFTWARE.\\n\"\n",
      "  },\n",
      "  {\n",
      "    \"name\": \"urllib.parse\",\n",
      "    \"kind\": \"stdlib\",\n",
      "    \"version\": \"3.12.7\",\n",
      "    \"license\": \"Python Software License\"\n",
      "  },\n",
      "  {\n",
      "    \"name\": \"requests\",\n",
      "    \"kind\": \"third-party\",\n",
      "    \"version\": \"2.32.3\",\n",
      "    \"summary\": \"Python HTTP for Humans.\",\n",
      "    \"home_page\": \"https://requests.readthedocs.io\",\n",
      "    \"license\": \"Apache-2.0\",\n",
      "    \"license_text\": \"\\n                                 Apache License\\n                           Version 2.0, January 2004\\n                        http://www.apache.org/licenses/\\n\\n   TERMS AND CONDITIONS FOR USE, REPRODUCTION, AND DISTRIBUTION\\n\\n   1. Definitions.\\n\\n      \\\"License\\\" shall mean the terms and conditions for use, reproduction,\\n      and distribution as defined by Sections 1 through 9 of this document.\\n\\n      \\\"Licensor\\\" shall mean the copyright owner or entity authorized by\\n      the copyright owner that is granting the License.\\n\\n      \\\"Legal Entity\\\" shall mean the union of the acting entity and all\\n      other entities that control, are controlled by, or are under common\\n      control with that entity. For the purposes of this definition,\\n      \\\"control\\\" means (i) the power, direct or indirect, to cause the\\n      direction or management of such entity, whether by contract or\\n      otherwise, or (ii) ownership of fifty percent (50%) or more of the\\n      outstanding shares, or (iii) beneficial ownership of such entity.\\n\\n      \\\"You\\\" (or \\\"Your\\\") shall mean an individual or Legal Entity\\n      exercising permissions granted by this License.\\n\\n      \\\"Source\\\" form shall mean the preferred form for making modifications,\\n      including but not limited to software source code, documentation\\n      source, and configuration files.\\n\\n      \\\"Object\\\" form shall mean any form resulting from mechanical\\n      transformation or translation of a Source form, including but\\n      not limited to compiled object code, generated documentation,\\n      and conversions to other media types.\\n\\n      \\\"Work\\\" shall mean the work of authorship, whether in Source or\\n      Object form, made available under the License, as indicated by a\\n      copyright notice that is included in or attached to the work\\n      (an example is provided in the Appendix below).\\n\\n      \\\"Derivative Works\\\" shall mean any work, whether in Source or Object\\n      form, that is based on (or derived from) the Work and for which the\\n      editorial revisions, annotations, elaborations, or other modifications\\n      represent, as a whole, an original work of authorship. For the purposes\\n      of this License, Derivative Works shall not include works that remain\\n      separable from, or merely link (or bind by name) to the interfaces of,\\n      the Work and Derivative Works thereof.\\n\\n      \\\"Contribution\\\" shall mean any work of authorship, including\\n      the original version of the Work and any modifications or additions\\n      to that Work or Derivative Works thereof, that is intentionally\\n      submitted to Licensor for inclusion in the Work by the copyright owner\\n      or by an individual or Legal Entity authorized to submit on behalf of\\n      the copyright owner. For the purposes of this definition, \\\"submitted\\\"\\n      means any form of electronic, verbal, or written communication sent\\n      to the Licensor or its representatives, including but not limited to\\n      communication on electronic mailing lists, source code control systems,\\n      and issue tracking systems that are managed by, or on behalf of, the\\n      Licensor for the purpose of discussing and improving the Work, but\\n      excluding communication that is conspicuously marked or otherwise\\n      designated in writing by the copyright owner as \\\"Not a Contribution.\\\"\\n\\n      \\\"Contributor\\\" shall mean Licensor and any individual or Legal Entity\\n      on behalf of whom a Contribution has been received by Licensor and\\n      subsequently incorporated within the Work.\\n\\n   2. Grant of Copyright License. Subject to the terms and conditions of\\n      this License, each Contributor hereby grants to You a perpetual,\\n      worldwide, non-exclusive, no-charge, royalty-free, irrevocable\\n      copyright license to reproduce, prepare Derivative Works of,\\n      publicly display, publicly perform, sublicense, and distribute the\\n      Work and such Derivative Works in Source or Object form.\\n\\n   3. Grant of Patent License. Subject to the terms and conditions of\\n      this License, each Contributor hereby grants to You a perpetual,\\n      worldwide, non-exclusive, no-charge, royalty-free, irrevocable\\n      (except as stated in this section) patent license to make, have made,\\n      use, offer to sell, sell, import, and otherwise transfer the Work,\\n      where such license applies only to those patent claims licensable\\n      by such Contributor that are necessarily infringed by their\\n      Contribution(s) alone or by combination of their Contribution(s)\\n      with the Work to which such Contribution(s) was submitted. If You\\n      institute patent litigation against any entity (including a\\n      cross-claim or counterclaim in a lawsuit) alleging that the Work\\n      or a Contribution incorporated within the Work constitutes direct\\n      or contributory patent infringement, then any patent licenses\\n      granted to You under this License for that Work shall terminate\\n      as of the date such litigation is filed.\\n\\n   4. Redistribution. You may reproduce and distribute copies of the\\n      Work or Derivative Works thereof in any medium, with or without\\n      modifications, and in Source or Object form, provided that You\\n      meet the following conditions:\\n\\n      (a) You must give any other recipients of the Work or\\n          Derivative Works a copy of this License; and\\n\\n      (b) You must cause any modified files to carry prominent notices\\n          stating that You changed the files; and\\n\\n      (c) You must retain, in the Source form of any Derivative Works\\n          that You distribute, all copyright, patent, trademark, and\\n          attribution notices from the Source form of the Work,\\n          excluding those notices that do not pertain to any part of\\n          the Derivative Works; and\\n\\n      (d) If the Work includes a \\\"NOTICE\\\" text file as part of its\\n          distribution, then any Derivative Works that You distribute must\\n          include a readable copy of the attribution notices contained\\n          within such NOTICE file, excluding those notices that do not\\n          pertain to any part of the Derivative Works, in at least one\\n          of the following places: within a NOTICE text file distributed\\n          as part of the Derivative Works; within the Source form or\\n          documentation, if provided along with the Derivative Works; or,\\n          within a display generated by the Derivative Works, if and\\n          wherever such third-party notices normally appear. The contents\\n          of the NOTICE file are for informational purposes only and\\n          do not modify the License. You may add Your own attribution\\n          notices within Derivative Works that You distribute, alongside\\n          or as an addendum to the NOTICE text from the Work, provided\\n          that such additional attribution notices cannot be construed\\n          as modifying the License.\\n\\n      You may add Your own copyright statement to Your modifications and\\n      may provide additional or different license terms and conditions\\n      for use, reproduction, or distribution of Your modifications, or\\n      for any such Derivative Works as a whole, provided Your use,\\n      reproduction, and distribution of the Work otherwise complies with\\n      the conditions stated in this License.\\n\\n   5. Submission of Contributions. Unless You explicitly state otherwise,\\n      any Contribution intentionally submitted for inclusion in the Work\\n      by You to the Licensor shall be under the terms and conditions of\\n      this License, without any additional terms or conditions.\\n      Notwithstanding the above, nothing herein shall supersede or modify\\n      the terms of any separate license agreement you may have executed\\n      with Licensor regarding such Contributions.\\n\\n   6. Trademarks. This License does not grant permission to use the trade\\n      names, trademarks, service marks, or product names of the Licensor,\\n      except as required for reasonable and customary use in describing the\\n      origin of the Work and reproducing the content of the NOTICE file.\\n\\n   7. Disclaimer of Warranty. Unless required by applicable law or\\n      agreed to in writing, Licensor provides the Work (and each\\n      Contributor provides its Contributions) on an \\\"AS IS\\\" BASIS,\\n      WITHOUT WARRANTIES OR CONDITIONS OF ANY KIND, either express or\\n      implied, including, without limitation, any warranties or conditions\\n      of TITLE, NON-INFRINGEMENT, MERCHANTABILITY, or FITNESS FOR A\\n      PARTICULAR PURPOSE. You are solely responsible for determining the\\n      appropriateness of using or redistributing the Work and assume any\\n      risks associated with Your exercise of permissions under this License.\\n\\n   8. Limitation of Liability. In no event and under no legal theory,\\n      whether in tort (including negligence), contract, or otherwise,\\n      unless required by applicable law (such as deliberate and grossly\\n      negligent acts) or agreed to in writing, shall any Contributor be\\n      liable to You for damages, including any direct, indirect, special,\\n      incidental, or consequential damages of any character arising as a\\n      result of this License or out of the use or inability to use the\\n      Work (including but not limited to damages for loss of goodwill,\\n      work stoppage, computer failure or malfunction, or any and all\\n      other commercial damages or losses), even if such Contributor\\n      has been advised of the possibility of such damages.\\n\\n   9. Accepting Warranty or Additional Liability. While redistributing\\n      the Work or Derivative Works thereof, You may choose to offer,\\n      and charge a fee for, acceptance of support, warranty, indemnity,\\n      or other liability obligations and/or rights consistent with this\\n      License. However, in accepting such obligations, You may act only\\n      on Your own behalf and on Your sole responsibility, not on behalf\\n      of any other Contributor, and only if You agree to indemnify,\\n      defend, and hold each Contributor harmless for any liability\\n      incurred by, or claims asserted against, such Contributor by reason\\n      of your accepting any such warranty or additional liability.\\n\"\n",
      "  },\n",
      "  {\n",
      "    \"name\": \"typing\",\n",
      "    \"kind\": \"stdlib\",\n",
      "    \"version\": \"3.12.7\",\n",
      "    \"license\": \"Python Software License\"\n",
      "  },\n",
      "  {\n",
      "    \"name\": \"re\",\n",
      "    \"kind\": \"stdlib\",\n",
      "    \"version\": \"3.12.7\",\n",
      "    \"license\": \"Python Software License\"\n",
      "  },\n",
      "  {\n",
      "    \"name\": \"pprint\",\n",
      "    \"kind\": \"stdlib\",\n",
      "    \"version\": \"3.12.7\",\n",
      "    \"license\": \"Python Software License\"\n",
      "  },\n",
      "  {\n",
      "    \"name\": \"copy\",\n",
      "    \"kind\": \"stdlib\",\n",
      "    \"version\": \"3.12.7\",\n",
      "    \"license\": \"Python Software License\"\n",
      "  },\n",
      "  {\n",
      "    \"name\": \"time\",\n",
      "    \"kind\": \"stdlib\",\n",
      "    \"version\": \"3.12.7\",\n",
      "    \"license\": \"Python Software License\"\n",
      "  }\n",
      "]\n",
      "\n",
      " wrote full JSON to C:\\Users\\tonyj\\OneDrive\\Documents\\GitHub\\morphkit\\package_info.json\n"
     ]
    }
   ],
   "source": [
    "# This is the list of packages that I am interested in.\n",
    "packages = [\n",
    "    \"beta-code\",         # external\n",
    "    \"urllib.parse\",      # std-lib sub-module\n",
    "    \"requests\",          # external\n",
    "    \"typing\", \"re\",      # std-lib\n",
    "    \"pprint\", \"copy\", \"time\"\n",
    "]\n",
    "\n",
    "import sys, json, textwrap\n",
    "from importlib import metadata\n",
    "from pathlib import Path\n",
    "\n",
    "# ---------------------------------------------------------------------------\n",
    "def is_stdlib(modname: str) -> bool:\n",
    "    \"\"\"True if 'modname' is a standard-library module that ships with CPython.\n",
    "    I am relying here on stlbib (https://stdlibs.omnilib.dev/en/stable/index.html)\n",
    "    this lib is part of sys.\n",
    "    \"\"\"\n",
    "    return modname in sys.stdlib_module_names\n",
    "\n",
    "def read_license_file(dist: metadata.Distribution) -> str:\n",
    "    \"\"\"Return the first bundled LICENSE / COPYING / NOTICE text, or ''.\"\"\"\n",
    "    for f in dist.files or []:       # pathlib.Path objects\n",
    "        if f.name.lower().startswith((\"license\", \"copying\", \"notice\")):\n",
    "            try:\n",
    "                return (dist.locate_file(f)).read_text(encoding=\"utf-8\")\n",
    "            except Exception:\n",
    "                pass\n",
    "    return \"\"\n",
    "\n",
    "records = []\n",
    "\n",
    "for raw_name in packages:\n",
    "    top = raw_name.split(\".\")[0].replace(\"-\", \"_\")   # strip sub-module & dashes\n",
    "\n",
    "    # ---------- standard library ------------------------------------------------\n",
    "    if is_stdlib(top):\n",
    "        records.append({\n",
    "            \"name\":   raw_name,\n",
    "            \"kind\":   \"stdlib\",\n",
    "            \"version\": sys.version.split()[0],\n",
    "            \"license\": \"Python Software License\"\n",
    "        })\n",
    "        continue\n",
    "\n",
    "    # ---------- third-party distribution ----------------------------------------\n",
    "    try:\n",
    "        dist = metadata.distribution(top)\n",
    "        meta = dist.metadata\n",
    "        records.append({\n",
    "            \"name\":    meta[\"Name\"],\n",
    "            \"kind\":    \"third-party\",\n",
    "            \"version\": dist.version,\n",
    "            \"summary\": meta.get(\"Summary\", \"\"),\n",
    "            \"home_page\": meta.get(\"Home-page\", \"\"),\n",
    "            \"license\":  meta.get(\"License\", \"\") or\n",
    "                        \"; \".join(c for c in meta.get_all(\"Classifier\", [])\n",
    "                                   if \"License ::\" in c),\n",
    "            \"license_text\": read_license_file(dist)\n",
    "        })\n",
    "    except metadata.PackageNotFoundError:\n",
    "        records.append({\n",
    "            \"name\": raw_name,\n",
    "            \"kind\": \"missing\",\n",
    "            \"error\": \"package not installed in this environment\"\n",
    "        })\n",
    "\n",
    "# ---------------------------------------------------------------------------\n",
    "# Save & display\n",
    "out_path = Path(\"package_info.json\").resolve()\n",
    "out_path.write_text(json.dumps(records, indent=2, ensure_ascii=False), \"utf-8\")\n",
    "\n",
    "print(json.dumps(records, indent=2, ensure_ascii=False))\n",
    "print(f\"\\n wrote full JSON to {out_path}\")\n"
   ]
  },
  {
   "cell_type": "markdown",
   "id": "b4766d4b-fad4-448b-ad2c-f43e10474ac9",
   "metadata": {},
   "source": [
    "## 2.3 - Create the full SBOM <a class=\"anchor\" id=\"bullet2x3\"></a>"
   ]
  },
  {
   "cell_type": "markdown",
   "id": "2a0034e6-aa5e-48f9-87a7-577799ff76e5",
   "metadata": {},
   "source": [
    "The following produces the SBOM (**S**oftware **B**ill **o**f **M**aterial) for the full active conda environment this notebook is running in. It will also add all Jupyter related packages."
   ]
  },
  {
   "cell_type": "code",
   "execution_count": 3,
   "id": "ee56e995-3495-4c8c-9cb2-0f3a26746e1c",
   "metadata": {},
   "outputs": [
    {
     "name": "stdout",
     "output_type": "stream",
     "text": [
      "cyclonedx-bom 6.1.1 ready\n",
      "\n",
      "Running: C:\\Users\\tonyj\\anaconda3\\envs\\Text-Fabric\\python.exe -m cyclonedx_py env -o C:\\Users\\tonyj\\OneDrive\\Documents\\GitHub\\morphkit\\morphkit_20250603-131540.cdx.json \n",
      "\n",
      "SBOM written to C:\\Users\\tonyj\\OneDrive\\Documents\\GitHub\\morphkit\\morphkit_20250603-131540.cdx.json \n",
      "\n",
      "— first 20 lines —\n",
      "{\n",
      "\"components\": [\n",
      "{\n",
      "\"bom-ref\": \"Babel==2.14.0\",\n",
      "\"description\": \"Internationalization utilities\",\n",
      "\"externalReferences\": [\n",
      "{\n",
      "\"comment\": \"PackageSource: Local\",\n",
      "\"type\": \"distribution\",\n",
      "\"url\": \"file:///home/conda/feedstock_root/build_artifacts/babel_1702422572539/work\"\n",
      "},\n",
      "{\n",
      "\"comment\": \"from packaging metadata Project-URL: Source\",\n",
      "\"type\": \"other\",\n",
      "\"url\": \"https://github.com/python-babel/babel\"\n",
      "},\n",
      "{\n",
      "\"comment\": \"from packaging metadata: Home-page\",\n",
      "\"type\": \"website\",\n",
      "\"url\": \"https://babel.pocoo.org/\"\n"
     ]
    }
   ],
   "source": [
    "import subprocess, sys, pathlib, datetime as dt, textwrap, importlib.metadata as im\n",
    "\n",
    "# Here I define what choose what to scan (“env” = everything installed in this interpreter)\n",
    "SUBCOMMAND = \"env\"          # or \"venv\", \"requirements\", \"poetry\", …\n",
    "\n",
    "ts        = dt.datetime.now().strftime(\"%Y%m%d-%H%M%S\")\n",
    "sbom_path = pathlib.Path.cwd() / f\"morphkit_{ts}.cdx.json\"\n",
    "\n",
    "# First check that to make sure cyclonedx-bom is up to date\n",
    "subprocess.run(\n",
    "    [sys.executable, \"-m\", \"pip\", \"install\", \"--upgrade\", \"--quiet\", \"cyclonedx-bom\"],\n",
    "    check=True\n",
    ")\n",
    "print(\"cyclonedx-bom\", im.version(\"cyclonedx-bom\"), \"ready\\n\")\n",
    "\n",
    "# Now we can run the CLI:  python -m cyclonedx_py  <subcommand>  -o  <file>\n",
    "cmd = [sys.executable, \"-m\", \"cyclonedx_py\", SUBCOMMAND, \"-o\", str(sbom_path)]\n",
    "print(\"Running:\", \" \".join(cmd), \"\\n\")\n",
    "\n",
    "result = subprocess.run(cmd, capture_output=True, text=True)\n",
    "\n",
    "if result.returncode == 0:\n",
    "    print(\"SBOM written to\", sbom_path.resolve(), \"\\n\")\n",
    "    head = sbom_path.read_text(encoding=\"utf-8\").splitlines()[:20]\n",
    "    print(\"— first 20 lines —\")\n",
    "    print(\"\\n\".join(textwrap.shorten(l, width=120) for l in head))\n",
    "else:\n",
    "    print(\"Cylonedx-py failed (exit\", result.returncode, \")\")\n",
    "    print(\"\\nSTDERR:\\n\", result.stderr or \"(empty)\")\n"
   ]
  },
  {
   "cell_type": "markdown",
   "id": "0173a712-5923-450a-9922-123efd8def46",
   "metadata": {},
   "source": [
    "It is doubtfull if this is relevant to be added to the repository, so I leave this one out."
   ]
  },
  {
   "cell_type": "markdown",
   "id": "8ba4c348-97a7-44fd-ab52-bea92b459363",
   "metadata": {},
   "source": [
    "## 2.4 - Make SBOM based on requirements.txt <a class=\"anchor\" id=\"bullet2x4\"></a>"
   ]
  },
  {
   "cell_type": "markdown",
   "id": "7dbcd96c-be57-4eec-b1a9-8688bdf6170e",
   "metadata": {},
   "source": [
    "In the next cell we create  a requirements.txt–driven SBOM, which is MUCH shorter and does probably make much more sense."
   ]
  },
  {
   "cell_type": "code",
   "execution_count": 4,
   "id": "9bb48601-f532-4516-9e3b-d9907861f519",
   "metadata": {},
   "outputs": [
    {
     "name": "stdout",
     "output_type": "stream",
     "text": [
      "Running: C:\\Users\\tonyj\\anaconda3\\envs\\Text-Fabric\\python.exe -m cyclonedx_py requirements requirements.txt --of json -o C:\\Users\\tonyj\\OneDrive\\Documents\\GitHub\\morphkit\\morphkit_20250603-131544.cdx.json\n",
      "CycloneDX SBOM written to C:\\Users\\tonyj\\OneDrive\\Documents\\GitHub\\morphkit\\morphkit_20250603-131544.cdx.json\n",
      "--- first 15 lines ---\n",
      "{\n",
      "\"components\": [\n",
      "{\n",
      "\"bom-ref\": \"requirements-L1\",\n",
      "\"description\": \"requirements line 1: beta-code>=1.1.1\",\n",
      "\"externalReferences\": [\n",
      "{\n",
      "\"comment\": \"implicit dist url\",\n",
      "\"type\": \"distribution\",\n",
      "\"url\": \"https://pypi.org/simple/beta-code/\"\n",
      "}\n",
      "],\n",
      "\"name\": \"beta-code\",\n",
      "\"purl\": \"pkg:pypi/beta-code\",\n",
      "\"type\": \"library\"\n"
     ]
    }
   ],
   "source": [
    "import subprocess, sys, pathlib, datetime as dt, textwrap\n",
    "\n",
    "req_file  = pathlib.Path(\"requirements.txt\")          # runtime deps only\n",
    "ts        = dt.datetime.now().strftime(\"%Y%m%d-%H%M%S\")\n",
    "sbom_file = pathlib.Path(f\"morphkit_{ts}.cdx.json\").resolve()\n",
    "\n",
    "# (re-)install or upgrade cyclonedx-bom in THIS kernel’s env\n",
    "subprocess.run(\n",
    "    [sys.executable, \"-m\", \"pip\", \"install\", \"--upgrade\", \"--quiet\", \"cyclonedx-bom\"],\n",
    "    check=True\n",
    ")\n",
    "\n",
    "cmd = [\n",
    "    sys.executable, \"-m\", \"cyclonedx_py\",\n",
    "    \"requirements\", str(req_file),        # ① sub-command + input\n",
    "    \"--of\", \"json\",                       # ② output-format\n",
    "    \"-o\", str(sbom_file)                  # ③ output file\n",
    "]\n",
    "\n",
    "print(\"Running:\", \" \".join(cmd))\n",
    "result = subprocess.run(cmd, capture_output=True, text=True)\n",
    "\n",
    "if result.returncode == 0:\n",
    "    print(\"CycloneDX SBOM written to\", sbom_file)\n",
    "    print(\"--- first 15 lines ---\")\n",
    "    print(\"\\n\".join(textwrap.shorten(l, width=120)\n",
    "                    for l in sbom_file.read_text(encoding=\"utf-8\").splitlines()[:15]))\n",
    "else:   # adding this is realy usefull for debug reasons\n",
    "    print(\"cyclonedx-py failed →\", result.stderr or \"(no stderr)\")\n"
   ]
  },
  {
   "cell_type": "markdown",
   "id": "96719402-76a7-4132-bc9e-1d41fb04ab3f",
   "metadata": {},
   "source": [
    "## 2.5 - Verify the dependency graph <a class=\"anchor\" id=\"bullet2x5\"></a>"
   ]
  },
  {
   "cell_type": "markdown",
   "id": "dc2a448d-c62a-43fa-81f6-5fbd70034d22",
   "metadata": {},
   "source": [
    "After generation of the SBOM we can open it and check for dependencies:"
   ]
  },
  {
   "cell_type": "code",
   "execution_count": 6,
   "id": "ee10971b-8558-4226-88e0-33e8256ffcca",
   "metadata": {},
   "outputs": [
    {
     "name": "stdout",
     "output_type": "stream",
     "text": [
      "Components in morphkit_20250603-122958.cdx.json:\n",
      "- beta-code  \n",
      "  id:  requirements-L1\n",
      "\n",
      "- pprint  \n",
      "  id:  requirements-L3\n",
      "\n",
      "- requests  \n",
      "  id:  requirements-L2\n",
      "\n",
      "Dependency graph:\n",
      "beta-code:\n",
      "requests:\n",
      "pprint:\n"
     ]
    }
   ],
   "source": [
    "import json, pathlib, textwrap\n",
    "\n",
    "sbom_file = pathlib.Path(\"morphkit_20250603-122958.cdx.json\") \n",
    "bom       = json.loads(sbom_file.read_text())\n",
    "\n",
    "# index for quick lookup\n",
    "by_ref = {c[\"bom-ref\"]: c for c in bom.get(\"components\", [])}\n",
    "\n",
    "print(f\"Components in {sbom_file.name}:\")\n",
    "for ref, comp in by_ref.items():\n",
    "    print(f\"- {comp.get('name', ref)}  {comp.get('version', '')}\")\n",
    "    print(f\"  id:  {ref}\")\n",
    "    if comp.get(\"licenses\"):\n",
    "        lic = comp[\"licenses\"][0][\"license\"].get(\"id\",\n",
    "              comp[\"licenses\"][0][\"license\"].get(\"name\"))\n",
    "        print(\"  license:\", lic)\n",
    "    print()\n",
    "    \n",
    "print(\"Dependency graph:\")\n",
    "for edge in bom.get(\"dependencies\", []):\n",
    "    parent = by_ref.get(edge[\"ref\"], {\"name\": edge[\"ref\"]})\n",
    "    print(f\"{parent['name']}:\")\n",
    "    for child_ref in edge.get(\"dependsOn\", []):\n",
    "        child = by_ref.get(child_ref, {\"name\": child_ref})\n",
    "        print(f\" └─ {child['name']} {child.get('version','')}\")\n"
   ]
  },
  {
   "cell_type": "code",
   "execution_count": null,
   "id": "3d279b77-d53a-4a5b-a83c-0a194d0f670d",
   "metadata": {},
   "outputs": [],
   "source": []
  },
  {
   "cell_type": "markdown",
   "id": "df5aafc0-3eb2-4c51-b2ba-a6cae4bfa358",
   "metadata": {},
   "source": [
    "# 4 - Attribution and footnotes <a class=\"anchor\" id=\"bullet4\"></a>\n",
    "##### [Back to ToC](#TOC)\n",
    "\n",
    "- [stdlibs: Simple list of top-level packages in Python’s stdlib](https://stdlibs.omnilib.dev/en/stable/index.html)\n",
    "- [CycloneDX: The International Standard for Bill of Materials (ECMA-424)](https://cyclonedx.org/)"
   ]
  },
  {
   "cell_type": "markdown",
   "id": "ea5a8fff-c78b-44a6-a412-1a200647fbc5",
   "metadata": {
    "tags": []
   },
   "source": [
    "# 5 - Required libraries<a class=\"anchor\" id=\"bullet5\"></a>\n",
    "##### [Back to ToC](#TOC)\n",
    "\n",
    "The scripts in this notebook depend on the following libraries installed in the environment:\n",
    "\n",
    "    cyclonedx_py\n",
    "    importlib\n",
    "    pip-licenses\n",
    "    \n",
    "You can install any missing library from within Jupyter Notebook using either`pip` or `pip3`."
   ]
  },
  {
   "cell_type": "markdown",
   "id": "f93cc1ec-3ce3-41d3-84f8-00d23183d382",
   "metadata": {},
   "source": [
    "# 6 - Notebook version<a class=\"anchor\" id=\"bullet6\"></a>\n",
    "##### [Back to ToC](#TOC)\n",
    "\n",
    "<div style=\"float: left;\">\n",
    "  <table>\n",
    "    <tr>\n",
    "      <td><strong>Author</strong></td>\n",
    "      <td>Tony Jurg</td>\n",
    "    </tr>\n",
    "    <tr>\n",
    "      <td><strong>Version</strong></td>\n",
    "      <td>1.0</td>\n",
    "    </tr>\n",
    "    <tr>\n",
    "      <td><strong>Date</strong></td>\n",
    "      <td>2 June 2025</td>\n",
    "    </tr>\n",
    "  </table>\n",
    "</div>"
   ]
  }
 ],
 "metadata": {
  "kernelspec": {
   "display_name": "Python [conda env:Text-Fabric] *",
   "language": "python",
   "name": "conda-env-Text-Fabric-py"
  },
  "language_info": {
   "codemirror_mode": {
    "name": "ipython",
    "version": 3
   },
   "file_extension": ".py",
   "mimetype": "text/x-python",
   "name": "python",
   "nbconvert_exporter": "python",
   "pygments_lexer": "ipython3",
   "version": "3.12.7"
  }
 },
 "nbformat": 4,
 "nbformat_minor": 5
}
