{
 "cells": [
  {
   "cell_type": "markdown",
   "id": "f717fd7b-daf3-4c87-b98a-8aa2e1f1c039",
   "metadata": {},
   "source": [
    "# Morphkit usage examples (Greek and Latin)"
   ]
  },
  {
   "cell_type": "markdown",
   "id": "0226024c-0132-4701-83ee-283839d7d342",
   "metadata": {
    "tags": []
   },
   "source": [
    "## Table of content (ToC)<a class=\"anchor\" id=\"TOC\"></a>\n",
    "\n",
    "* <a href=\"#bullet1\">1 - Introduction</a>\n",
    "* <a href=\"#bullet2\">2 - Setting up the environment</a>\n",
    "* <a href=\"#bullet3\">3 - Usage examples (Greek)</a>    \n",
    "   * <a href=\"#bullet3x1\">3.1 - Obtain Morpheus Analytic blocks for a Greek word</a> \n",
    "   * <a href=\"#bullet3x2\">3.2 - Get the compact analysis results</a>\n",
    "   * <a href=\"#bullet3x3\">3.3 - Split the result in blocks</a>\n",
    "   * <a href=\"#bullet3x4\">3.4 - Add Part of Speech</a> \n",
    "   * <a href=\"#bullet3x5\">3.5 - Add SP morph tag</a>\n",
    "   * <a href=\"#bullet3x6\">3.6 - Perform a full analysis</a>\n",
    "* <a href=\"#bullet4\">4 - Usage examples (Latin)</a>\n",
    "   * <a href=\"#bullet4x1\">4.1 - Obtain Morpheus Analytic blocks for a Latin word</a>\n",
    "   * <a href=\"#bullet4x2\">4.2 - Split the result and store in a dictionary</a>\n",
    "   * <a href=\"#bullet4x3\">4.3 - Or all in one go</a>\n",
    "* <a href=\"#bullet5\">5 - Additional features</a>\n",
    "   * <a href=\"#bullet5x1\">5.1 - Decode morphological tag</a>\n",
    "   * <a href=\"#bullet5x2\">5.2 - Compare morphological tags</a>\n",
    "   * <a href=\"#bullet5x3\">5.3 - Sort Morpheus blocks based on reference tag/lemma</a>\n",
    "* <a href=\"#bullet6\">6 - Attribution and footnotes</a>\n",
    "* <a href=\"#bullet7\">7 - Notebook version</a>"
   ]
  },
  {
   "cell_type": "markdown",
   "id": "c164eaa6-fc63-420a-97c1-7dc7a1ca9378",
   "metadata": {},
   "source": [
    "# 1 - Introduction <a class=\"anchor\" id=\"bullet1\"></a>\n",
    "##### [Back to ToC](#TOC)\n",
    "\n",
    "This notebook demonstrates how to use the Morphkit Python package to interface with the Morpheus API. It shows how to obtain the raw analytic blocks for a given word, and how the results can be parsed and stored in a structured dictionary format. It also introduces the orchestrating function [`analyse_word_with_morpheus`](https://tonyjurg.github.io/morphkit/api/autogen/morphkit.analyse_word_with_morpheus.html) that performs the entire process in one step. which performs the entire process in a single step. While Latin support is limited to basic output, Greek analyses include detailed morphological and part-of-speech tagging. The final section demonstrates a few auxiliary functions: [`decode_tag`](https://tonyjurg.github.io/morphkit/api/autogen/morphkit.decode_tag.html), [`compare_tags`](https://tonyjurg.github.io/morphkit/api/autogen/morphkit.compare_tags.html), and [`annotate_and_sort_analyses`](https://tonyjurg.github.io/morphkit/api/autogen/morphkit.annotate_and_sort_analyses.html)."
   ]
  },
  {
   "cell_type": "markdown",
   "id": "be367b2c-8e16-4e8c-a03f-a98e6945277f",
   "metadata": {},
   "source": [
    "# 2 - Setting up the environment <a class=\"anchor\" id=\"bullet2\"></a>\n",
    "##### [Back to ToC](#TOC)"
   ]
  },
  {
   "cell_type": "code",
   "execution_count": 1,
   "id": "fee60cde-b7ac-4979-8340-9458356463f7",
   "metadata": {
    "scrolled": true
   },
   "outputs": [
    {
     "name": "stdout",
     "output_type": "stream",
     "text": [
      "morphkit loaded\n"
     ]
    }
   ],
   "source": [
    "import sys\n",
    "sys.path.insert(0, \"../\")    # relative to notebook dir\n",
    "import morphkit"
   ]
  },
  {
   "cell_type": "markdown",
   "id": "fd624bc0-7722-4596-a135-beab22b7db16",
   "metadata": {},
   "source": [
    "We also need to load the betacode library:"
   ]
  },
  {
   "cell_type": "code",
   "execution_count": 2,
   "id": "b206fafd-29d9-4fa2-a8e0-9bc6465adcbf",
   "metadata": {},
   "outputs": [],
   "source": [
    "import beta_code"
   ]
  },
  {
   "cell_type": "markdown",
   "id": "02160555-c075-4ca5-a408-d0b03ba3b7f0",
   "metadata": {},
   "source": [
    "# 3 - Usage examples (Greek) <a class=\"anchor\" id=\"bullet3\"></a>\n",
    "##### [Back to ToC](#TOC)"
   ]
  },
  {
   "cell_type": "markdown",
   "id": "a672f6a5-f54c-4f5f-9e15-05d0c2031e29",
   "metadata": {},
   "source": [
    "Assume we would like to decode the Greek word του. Since Morpheus needs the betacode encoded word as input, we need to first convert it using the beta_code library. "
   ]
  },
  {
   "cell_type": "markdown",
   "id": "994a87dc-c7b8-43d1-b719-9b6fd295cf97",
   "metadata": {},
   "source": [
    "## 3.1 - Obtain Morpheus Analytic blocks for a Greek word<a class=\"anchor\" id=\"bullet3x1\"></a>"
   ]
  },
  {
   "cell_type": "code",
   "execution_count": 3,
   "id": "f5a487fb-cce6-407a-a168-00ec03a64c19",
   "metadata": {},
   "outputs": [
    {
     "name": "stdout",
     "output_type": "stream",
     "text": [
      "tou\n"
     ]
    }
   ],
   "source": [
    "# convert unicode greek to betacode\n",
    "bc_word=beta_code.greek_to_beta_code(u'του') \n",
    "print (bc_word)"
   ]
  },
  {
   "cell_type": "markdown",
   "id": "5c3007d8-41be-4f9f-9485-e2f6b58e6c31",
   "metadata": {},
   "source": [
    "Now we need to define the API endpoint which provides us the Morpheus service. "
   ]
  },
  {
   "cell_type": "code",
   "execution_count": 4,
   "id": "9251aa04-184b-487f-9026-28240973b06d",
   "metadata": {},
   "outputs": [],
   "source": [
    "api_endpoint=\"10.0.1.156:1315\""
   ]
  },
  {
   "cell_type": "markdown",
   "id": "df862404-6d56-4409-9599-de8535da49d0",
   "metadata": {},
   "source": [
    "Once defined we can combine it with the betacode word and run the `get_word_blocks` function."
   ]
  },
  {
   "cell_type": "code",
   "execution_count": 5,
   "id": "de4a7215-db4a-4bac-b694-7e14248a2e19",
   "metadata": {},
   "outputs": [
    {
     "name": "stdout",
     "output_type": "stream",
     "text": [
      "\n",
      ":raw tou\n",
      "\n",
      ":workw tou=\n",
      ":lem o(\n",
      ":prvb \t\t\t\t\n",
      ":aug1 \t\t\t\t\n",
      ":stem tou=\t\t\tindeclform\t\n",
      ":suff \t\t\t\t\n",
      ":end \t masc/neut gen sg\t\tindeclform\tarticle\n",
      "\n",
      ":raw tou\n",
      "\n",
      ":workw tou=\n",
      ":lem ti/s\n",
      ":prvb \t\t\t\t\n",
      ":aug1 \t\t\t\t\n",
      ":stem tou=\t\t\tindeclform\t\n",
      ":suff \t\t\t\t\n",
      ":end \t gen sg\tattic\tindeclform\tindecl\n",
      "\n",
      ":raw tou\n",
      "\n",
      ":workw tou\n",
      ":lem tis\n",
      ":prvb \t\t\t\t\n",
      ":aug1 \t\t\t\t\n",
      ":stem tou\t\t\tenclitic indeclform\t\n",
      ":suff \t\t\t\t\n",
      ":end \t gen sg\tattic\tenclitic indeclform\tindef\n",
      "\n"
     ]
    }
   ],
   "source": [
    "print(morphkit.get_word_blocks(bc_word,api_endpoint))"
   ]
  },
  {
   "cell_type": "markdown",
   "id": "094ed956-efb2-44ca-a872-74c81a0e3797",
   "metadata": {},
   "source": [
    "## 3.2 - Get the compact analysis results <a class=\"anchor\" id=\"bullet3x2\"></a>"
   ]
  },
  {
   "cell_type": "markdown",
   "id": "008bd410-33a2-4ca5-a7f7-0f8617ebd224",
   "metadata": {},
   "source": [
    "If we would like to have the results in a more compact format, we can also use the option"
   ]
  },
  {
   "cell_type": "code",
   "execution_count": 6,
   "id": "9183f338-ab7e-41d4-9178-dbcefd197d32",
   "metadata": {},
   "outputs": [
    {
     "name": "stdout",
     "output_type": "stream",
     "text": [
      "tou\n",
      "<NL>N tou=,o(  masc/neut gen sg\t\tindeclform\tarticle</NL><NL>N tou=,ti/s  gen sg\tattic\tindeclform\tindecl</NL><NL>N tis  gen sg\tattic\tenclitic indeclform\tindef</NL>\n",
      "\n"
     ]
    }
   ],
   "source": [
    "print(morphkit.get_word_blocks(bc_word,api_endpoint,output=\"compact\"))"
   ]
  },
  {
   "cell_type": "markdown",
   "id": "5774da4c-6a73-4dc7-a4ea-21e99afbe93e",
   "metadata": {},
   "source": [
    "## 3.3 - Split the result in blocks <a class=\"anchor\" id=\"bullet3x3\"></a>"
   ]
  },
  {
   "cell_type": "markdown",
   "id": "7cd9eba0-9257-44e3-bbc0-db496c4ccd1a",
   "metadata": {},
   "source": [
    "If we want to turn the received blocks into a Python dictionairy, we first need to split the received blocks and then parse these using function `parse_word_block`. "
   ]
  },
  {
   "cell_type": "code",
   "execution_count": 7,
   "id": "4491b0eb-6fe2-40e4-bd20-c57708e6a525",
   "metadata": {},
   "outputs": [
    {
     "name": "stdout",
     "output_type": "stream",
     "text": [
      "[{'case': 'gen',\n",
      "  'end_codes': ['article'],\n",
      "  'end_flags': ['indeclform'],\n",
      "  'gender': ['masc', 'neut'],\n",
      "  'lem_base_bc': 'o(',\n",
      "  'lem_base_uc': 'ὁ',\n",
      "  'lem_full_bc': 'o(',\n",
      "  'lem_full_uc': 'ὁ',\n",
      "  'number': 'sg',\n",
      "  'raw_bc': 'tou',\n",
      "  'raw_uc': 'του',\n",
      "  'stem_bc': 'tou=',\n",
      "  'stem_flags': ['indeclform'],\n",
      "  'stem_uc': 'τοῦ',\n",
      "  'workw_bc': 'tou=',\n",
      "  'workw_uc': 'τοῦ'}]\n",
      "[{'case': 'gen',\n",
      "  'dialects': ['attic'],\n",
      "  'end_codes': ['indecl'],\n",
      "  'end_flags': ['indeclform'],\n",
      "  'lem_base_bc': 'ti/s',\n",
      "  'lem_base_uc': 'τίς',\n",
      "  'lem_full_bc': 'ti/s',\n",
      "  'lem_full_uc': 'τίς',\n",
      "  'number': 'sg',\n",
      "  'raw_bc': 'tou',\n",
      "  'raw_uc': 'του',\n",
      "  'stem_bc': 'tou=',\n",
      "  'stem_flags': ['indeclform'],\n",
      "  'stem_uc': 'τοῦ',\n",
      "  'workw_bc': 'tou=',\n",
      "  'workw_uc': 'τοῦ'}]\n",
      "[{'case': 'gen',\n",
      "  'dialects': ['attic'],\n",
      "  'end_codes': ['indef'],\n",
      "  'end_flags': ['enclitic', 'indeclform'],\n",
      "  'lem_base_bc': 'tis',\n",
      "  'lem_base_uc': 'τις',\n",
      "  'lem_full_bc': 'tis',\n",
      "  'lem_full_uc': 'τις',\n",
      "  'number': 'sg',\n",
      "  'pron_type': 'indefinite',\n",
      "  'raw_bc': 'tou',\n",
      "  'raw_uc': 'του',\n",
      "  'stem_bc': 'tou',\n",
      "  'stem_flags': ['enclitic', 'indeclform'],\n",
      "  'stem_uc': 'του',\n",
      "  'workw_bc': 'tou',\n",
      "  'workw_uc': 'του'}]\n"
     ]
    }
   ],
   "source": [
    "import pprint as pp\n",
    "raw_text=morphkit.get_word_blocks(\"tou\",api_endpoint,language=\"greek\")\n",
    "blocks=morphkit.split_into_raw_blocks(raw_text)\n",
    "all_parses = []\n",
    "for block in blocks:\n",
    "    raw_beta, parses = morphkit.parse_word_block(block)\n",
    "    all_parses.append(parses)\n",
    "    pp.pprint(parses)"
   ]
  },
  {
   "cell_type": "markdown",
   "id": "bf234059-0901-4c31-a865-47cb96ac642b",
   "metadata": {},
   "source": [
    "## 3.4 - Add part of speech <a class=\"anchor\" id=\"bullet3x4\"></a>"
   ]
  },
  {
   "cell_type": "markdown",
   "id": "e1fa361d-2e10-4858-8fc1-60274eb05da7",
   "metadata": {},
   "source": [
    "Now we can add part of speech details to the created parse dictionairies. Note the additon of a 'pos' entry:"
   ]
  },
  {
   "cell_type": "code",
   "execution_count": 8,
   "id": "b8b0c0a0-0fb0-4b3f-a57f-455b9e803b2e",
   "metadata": {},
   "outputs": [
    {
     "name": "stdout",
     "output_type": "stream",
     "text": [
      "{'case': 'gen',\n",
      " 'end_codes': ['article'],\n",
      " 'end_flags': ['indeclform'],\n",
      " 'gender': ['masc', 'neut'],\n",
      " 'lem_base_bc': 'o(',\n",
      " 'lem_base_uc': 'ὁ',\n",
      " 'lem_full_bc': 'o(',\n",
      " 'lem_full_uc': 'ὁ',\n",
      " 'number': 'sg',\n",
      " 'pos': 'article',\n",
      " 'raw_bc': 'tou',\n",
      " 'raw_uc': 'του',\n",
      " 'stem_bc': 'tou=',\n",
      " 'stem_flags': ['indeclform'],\n",
      " 'stem_uc': 'τοῦ',\n",
      " 'workw_bc': 'tou=',\n",
      " 'workw_uc': 'τοῦ'}\n",
      "{'case': 'gen',\n",
      " 'dialects': ['attic'],\n",
      " 'end_codes': ['indecl'],\n",
      " 'end_flags': ['indeclform'],\n",
      " 'lem_base_bc': 'ti/s',\n",
      " 'lem_base_uc': 'τίς',\n",
      " 'lem_full_bc': 'ti/s',\n",
      " 'lem_full_uc': 'τίς',\n",
      " 'number': 'sg',\n",
      " 'pos': 'proper noun indeclinable',\n",
      " 'raw_bc': 'tou',\n",
      " 'raw_uc': 'του',\n",
      " 'stem_bc': 'tou=',\n",
      " 'stem_flags': ['indeclform'],\n",
      " 'stem_uc': 'τοῦ',\n",
      " 'workw_bc': 'tou=',\n",
      " 'workw_uc': 'τοῦ'}\n",
      "{'case': 'gen',\n",
      " 'dialects': ['attic'],\n",
      " 'end_codes': ['indef'],\n",
      " 'end_flags': ['enclitic', 'indeclform'],\n",
      " 'lem_base_bc': 'tis',\n",
      " 'lem_base_uc': 'τις',\n",
      " 'lem_full_bc': 'tis',\n",
      " 'lem_full_uc': 'τις',\n",
      " 'number': 'sg',\n",
      " 'pos': 'indefinite pronoun',\n",
      " 'pron_type': 'indefinite',\n",
      " 'raw_bc': 'tou',\n",
      " 'raw_uc': 'του',\n",
      " 'stem_bc': 'tou',\n",
      " 'stem_flags': ['enclitic', 'indeclform'],\n",
      " 'stem_uc': 'του',\n",
      " 'workw_bc': 'tou',\n",
      " 'workw_uc': 'του'}\n"
     ]
    }
   ],
   "source": [
    "import pprint as pp\n",
    "for [parse] in all_parses:  #[] since list of dictionaries\n",
    "    parse['pos']=(morphkit.analyse_pos(parse))\n",
    "    pp.pprint(parse)"
   ]
  },
  {
   "cell_type": "markdown",
   "id": "1740f224-1378-47bb-964c-c266f9811715",
   "metadata": {},
   "source": [
    "## 3.5 - Add SP morph tag <a class=\"anchor\" id=\"bullet3x5\"></a>"
   ]
  },
  {
   "cell_type": "markdown",
   "id": "a0ea41e2-8d5d-4443-a901-ccb061c117a5",
   "metadata": {},
   "source": [
    "Now we can add the morphological tag to the parse dictionairies that we just augmented with part of speech data. Note the additon of a 'morph' entry:"
   ]
  },
  {
   "cell_type": "code",
   "execution_count": 9,
   "id": "d308ee25-554c-4a34-ab6e-f662480dd4dd",
   "metadata": {},
   "outputs": [
    {
     "name": "stdout",
     "output_type": "stream",
     "text": [
      "{'case': 'gen',\n",
      " 'end_codes': ['article'],\n",
      " 'end_flags': ['indeclform'],\n",
      " 'gender': ['masc', 'neut'],\n",
      " 'lem_base_bc': 'o(',\n",
      " 'lem_base_uc': 'ὁ',\n",
      " 'lem_full_bc': 'o(',\n",
      " 'lem_full_uc': 'ὁ',\n",
      " 'morph': 'T-GSM/T-GSN',\n",
      " 'number': 'sg',\n",
      " 'pos': 'article',\n",
      " 'raw_bc': 'tou',\n",
      " 'raw_uc': 'του',\n",
      " 'stem_bc': 'tou=',\n",
      " 'stem_flags': ['indeclform'],\n",
      " 'stem_uc': 'τοῦ',\n",
      " 'workw_bc': 'tou=',\n",
      " 'workw_uc': 'τοῦ'}\n",
      "{'case': 'gen',\n",
      " 'dialects': ['attic'],\n",
      " 'end_codes': ['indecl'],\n",
      " 'end_flags': ['indeclform'],\n",
      " 'lem_base_bc': 'ti/s',\n",
      " 'lem_base_uc': 'τίς',\n",
      " 'lem_full_bc': 'ti/s',\n",
      " 'lem_full_uc': 'τίς',\n",
      " 'morph': 'N-PRI-ATT',\n",
      " 'number': 'sg',\n",
      " 'pos': 'proper noun indeclinable',\n",
      " 'raw_bc': 'tou',\n",
      " 'raw_uc': 'του',\n",
      " 'stem_bc': 'tou=',\n",
      " 'stem_flags': ['indeclform'],\n",
      " 'stem_uc': 'τοῦ',\n",
      " 'workw_bc': 'tou=',\n",
      " 'workw_uc': 'τοῦ'}\n",
      "{'case': 'gen',\n",
      " 'dialects': ['attic'],\n",
      " 'end_codes': ['indef'],\n",
      " 'end_flags': ['enclitic', 'indeclform'],\n",
      " 'lem_base_bc': 'tis',\n",
      " 'lem_base_uc': 'τις',\n",
      " 'lem_full_bc': 'tis',\n",
      " 'lem_full_uc': 'τις',\n",
      " 'morph': 'X-GS-ATT',\n",
      " 'number': 'sg',\n",
      " 'pos': 'indefinite pronoun',\n",
      " 'pron_type': 'indefinite',\n",
      " 'raw_bc': 'tou',\n",
      " 'raw_uc': 'του',\n",
      " 'stem_bc': 'tou',\n",
      " 'stem_flags': ['enclitic', 'indeclform'],\n",
      " 'stem_uc': 'του',\n",
      " 'workw_bc': 'tou',\n",
      " 'workw_uc': 'του'}\n"
     ]
    }
   ],
   "source": [
    "import pprint as pp\n",
    "for [parse] in all_parses:  #[] since list of dictionaries\n",
    "    parse['morph']=(morphkit.analyse_morph_tag(parse))\n",
    "    pp.pprint(parse)"
   ]
  },
  {
   "cell_type": "markdown",
   "id": "89529077-d1da-4257-9e4b-c247886e0757",
   "metadata": {},
   "source": [
    "## 3.6 - Perform a full analysis <a class=\"anchor\" id=\"bullet3x4\"></a>"
   ]
  },
  {
   "cell_type": "markdown",
   "id": "57fe4e38-8077-4e4d-baff-aaec67718b47",
   "metadata": {},
   "source": [
    "The whole workflow for Greek words can be done in just one function call to `morphkit.analyze_word_with_morpheus`:"
   ]
  },
  {
   "cell_type": "code",
   "execution_count": 10,
   "id": "9c721b32-4d0b-420c-9cbd-4db846150000",
   "metadata": {},
   "outputs": [
    {
     "name": "stdout",
     "output_type": "stream",
     "text": [
      "{'analyses': [{'case': 'gen',\n",
      "               'end_codes': ['article'],\n",
      "               'end_flags': ['indeclform'],\n",
      "               'gender': ['masc', 'neut'],\n",
      "               'lem_base_bc': 'o(',\n",
      "               'lem_base_uc': 'ὁ',\n",
      "               'lem_full_bc': 'o(',\n",
      "               'lem_full_uc': 'ὁ',\n",
      "               'morph': 'T-GSM/T-GSN',\n",
      "               'number': 'sg',\n",
      "               'pos': 'article',\n",
      "               'raw_bc': 'tou',\n",
      "               'raw_uc': 'του',\n",
      "               'stem_bc': 'tou=',\n",
      "               'stem_flags': ['indeclform'],\n",
      "               'stem_uc': 'τοῦ',\n",
      "               'workw_bc': 'tou=',\n",
      "               'workw_uc': 'τοῦ'},\n",
      "              {'case': 'gen',\n",
      "               'dialects': ['attic'],\n",
      "               'end_codes': ['indecl'],\n",
      "               'end_flags': ['indeclform'],\n",
      "               'lem_base_bc': 'ti/s',\n",
      "               'lem_base_uc': 'τίς',\n",
      "               'lem_full_bc': 'ti/s',\n",
      "               'lem_full_uc': 'τίς',\n",
      "               'morph': 'N-PRI-ATT',\n",
      "               'number': 'sg',\n",
      "               'pos': 'proper noun indeclinable',\n",
      "               'raw_bc': 'tou',\n",
      "               'raw_uc': 'του',\n",
      "               'stem_bc': 'tou=',\n",
      "               'stem_flags': ['indeclform'],\n",
      "               'stem_uc': 'τοῦ',\n",
      "               'workw_bc': 'tou=',\n",
      "               'workw_uc': 'τοῦ'},\n",
      "              {'case': 'gen',\n",
      "               'dialects': ['attic'],\n",
      "               'end_codes': ['indef'],\n",
      "               'end_flags': ['enclitic', 'indeclform'],\n",
      "               'lem_base_bc': 'tis',\n",
      "               'lem_base_uc': 'τις',\n",
      "               'lem_full_bc': 'tis',\n",
      "               'lem_full_uc': 'τις',\n",
      "               'morph': 'X-GS-ATT',\n",
      "               'number': 'sg',\n",
      "               'pos': 'indefinite pronoun',\n",
      "               'pron_type': 'indefinite',\n",
      "               'raw_bc': 'tou',\n",
      "               'raw_uc': 'του',\n",
      "               'stem_bc': 'tou',\n",
      "               'stem_flags': ['enclitic', 'indeclform'],\n",
      "               'stem_uc': 'του',\n",
      "               'workw_bc': 'tou',\n",
      "               'workw_uc': 'του'}],\n",
      " 'blocks': 3,\n",
      " 'raw_bc': 'tou',\n",
      " 'raw_uc': 'του'}\n"
     ]
    }
   ],
   "source": [
    "import pprint as pp\n",
    "api_endpoint=\"10.0.1.156:1315\"\n",
    "bc_word=beta_code.greek_to_beta_code(u'του') \n",
    "pp.pprint(morphkit.analyse_word_with_morpheus(bc_word,api_endpoint))"
   ]
  },
  {
   "cell_type": "markdown",
   "id": "cf0ef15b-052b-4f38-ab76-b3315f5eb20f",
   "metadata": {},
   "source": [
    "# 4 - Usage examples (Latin) <a class=\"anchor\" id=\"bullet4\"></a>\n",
    "##### [Back to ToC](#TOC)"
   ]
  },
  {
   "cell_type": "markdown",
   "id": "4837b96d-3c21-47c2-9bb5-7ef7840f4da5",
   "metadata": {},
   "source": [
    "Morphkit also has **basic support** for Latin. This is limited to the functions that allow to read the Morpheus Analytic blocks and store its content to a Python dictionairy."
   ]
  },
  {
   "cell_type": "markdown",
   "id": "9f1c87b9-c5a8-4175-b691-e9885099de75",
   "metadata": {},
   "source": [
    "## 4.1 - Obtain Morpheus Analytic blocks for a Latin word <a class=\"anchor\" id=\"bullet4x1\"></a>"
   ]
  },
  {
   "cell_type": "code",
   "execution_count": 11,
   "id": "6a6a81e6-2e7d-4988-9613-045f320ff3d6",
   "metadata": {
    "scrolled": true
   },
   "outputs": [
    {
     "name": "stdout",
     "output_type": "stream",
     "text": [
      "\n",
      ":raw vini\n",
      "\n",
      ":workw vi_ni_\n",
      ":lem vinum\n",
      ":prvb \t\t\t\t\n",
      ":aug1 \t\t\t\t\n",
      ":stem vi_n\t neut\t\t\tus_i\n",
      ":suff \t\t\t\t\n",
      ":end i_\t neut gen sg\t\t\tus_i\n",
      "\n",
      ":raw vini\n",
      "\n",
      ":workw vi_ni_\n",
      ":lem vinus\n",
      ":prvb \t\t\t\t\n",
      ":aug1 \t\t\t\t\n",
      ":stem vi_n\t masc\t\t\tus_i\n",
      ":suff \t\t\t\t\n",
      ":end i_\t masc nom/voc pl\t\t\tus_i\n",
      "\n",
      ":raw vini\n",
      "\n",
      ":workw vi_ni_\n",
      ":lem vinus\n",
      ":prvb \t\t\t\t\n",
      ":aug1 \t\t\t\t\n",
      ":stem vi_n\t masc\t\t\tus_i\n",
      ":suff \t\t\t\t\n",
      ":end i_\t masc gen sg\t\t\tus_i\n",
      "\n"
     ]
    }
   ],
   "source": [
    "print(morphkit.get_word_blocks(\"vini\",api_endpoint,language=\"latin\"))"
   ]
  },
  {
   "cell_type": "markdown",
   "id": "2f4b5314-3c8b-45f4-993b-1785bdde8d86",
   "metadata": {},
   "source": [
    "## 4.2 - Split the result in blocks and store in dictionary<a class=\"anchor\" id=\"bullet4x2\"></a>"
   ]
  },
  {
   "cell_type": "code",
   "execution_count": 12,
   "id": "b73d4887-3993-4bca-9aae-fc703cb80d5f",
   "metadata": {},
   "outputs": [
    {
     "name": "stdout",
     "output_type": "stream",
     "text": [
      "[{'end': 'o_',\n",
      "  'end_codes': ['conj1'],\n",
      "  'lem_base': 'dico#',\n",
      "  'lem_full': 'dico#1',\n",
      "  'lem_homonym': 1,\n",
      "  'mood': 'ind',\n",
      "  'number': 'sg',\n",
      "  'person': '1st',\n",
      "  'raw': 'dico',\n",
      "  'stem': 'dic',\n",
      "  'stem_codes': ['conj1', 'are_vb'],\n",
      "  'tense': 'pres',\n",
      "  'voice': 'act',\n",
      "  'workw': 'dico_'}]\n",
      "[{'end': 'o_',\n",
      "  'end_codes': ['conj3'],\n",
      "  'lem_base': 'dico#',\n",
      "  'lem_full': 'dico#2',\n",
      "  'lem_homonym': 2,\n",
      "  'mood': 'ind',\n",
      "  'number': 'sg',\n",
      "  'person': '1st',\n",
      "  'raw': 'dico',\n",
      "  'stem': 'di_c',\n",
      "  'stem_codes': ['conj3'],\n",
      "  'tense': 'pres',\n",
      "  'voice': 'act',\n",
      "  'workw': 'di_co_'}]\n"
     ]
    }
   ],
   "source": [
    "import pprint as pp\n",
    "raw_text=morphkit.get_word_blocks(\"dico\",api_endpoint,language=\"latin\")\n",
    "blocks=morphkit.split_into_raw_blocks(raw_text)\n",
    "all_parses = []\n",
    "for block in blocks:\n",
    "    raw_beta, parses = morphkit.parse_word_block(block,\"latin\")\n",
    "    all_parses.append(parses)\n",
    "    pp.pprint(parses)"
   ]
  },
  {
   "cell_type": "markdown",
   "id": "160e5d1a-d2f4-473e-92da-653dde06aafc",
   "metadata": {},
   "source": [
    "## 4.3 - Or all in one go <a class=\"anchor\" id=\"bullet4x3\"></a>"
   ]
  },
  {
   "cell_type": "code",
   "execution_count": 13,
   "id": "2fb75498-f441-432c-9574-54369bc786b8",
   "metadata": {},
   "outputs": [
    {
     "name": "stdout",
     "output_type": "stream",
     "text": [
      "{'analyses': [{'case': 'abl',\n",
      "               'end': 'a_',\n",
      "               'end_codes': ['a_ae'],\n",
      "               'gender': 'fem',\n",
      "               'lem_base': 'puella',\n",
      "               'lem_full': 'puella',\n",
      "               'number': 'sg',\n",
      "               'raw': 'puella',\n",
      "               'stem': 'puell',\n",
      "               'stem_codes': ['a_ae'],\n",
      "               'stem_gender': 'fem',\n",
      "               'workw': 'puella_'},\n",
      "              {'case': ['nom', 'voc'],\n",
      "               'end': 'a',\n",
      "               'end_codes': ['a_ae'],\n",
      "               'gender': 'fem',\n",
      "               'lem_base': 'puella',\n",
      "               'lem_full': 'puella',\n",
      "               'number': 'sg',\n",
      "               'raw': 'puella',\n",
      "               'stem': 'puell',\n",
      "               'stem_codes': ['a_ae'],\n",
      "               'stem_gender': 'fem',\n",
      "               'workw': 'puella'}],\n",
      " 'blocks': 2,\n",
      " 'raw_bc': 'puella'}\n"
     ]
    }
   ],
   "source": [
    "import pprint as pp\n",
    "api_endpoint=\"10.0.1.156:1315\"\n",
    "pp.pprint(morphkit.analyse_word_with_morpheus(\"puella\",api_endpoint,language=\"latin\"))"
   ]
  },
  {
   "cell_type": "markdown",
   "id": "00b11ab7-ed9f-417f-bf17-a5ec2e947c59",
   "metadata": {},
   "source": [
    "This allows for further processing using Python."
   ]
  },
  {
   "cell_type": "markdown",
   "id": "30d3391e-8489-4f83-bd53-9743eb415fc8",
   "metadata": {},
   "source": [
    "# 5 - Additional features<a class=\"anchor\" id=\"bullet5\"></a>\n",
    "##### [Back to ToC](#TOC)\n",
    "\n",
    "The Morphkit package also contains a few auxiliary functions: \n",
    " - [`decode_tag`](https://tonyjurg.github.io/morphkit/api/autogen/morphkit.decode_tag.html)\n",
    " - [`compare_tags`](https://tonyjurg.github.io/morphkit/api/autogen/morphkit.compare_tags.html)\n",
    " - [`annotate_and_sort_analyses`](https://tonyjurg.github.io/morphkit/api/autogen/morphkit.annotate_and_sort_analyses.html)\n",
    "\n",
    "Below these functions will be demonstrated. "
   ]
  },
  {
   "cell_type": "markdown",
   "id": "4b190bce-8e74-440c-9b4c-1c2537137b07",
   "metadata": {},
   "source": [
    "## 5.1 - Decode morphological tag <a class=\"anchor\" id=\"bullet5x1\"></a>"
   ]
  },
  {
   "cell_type": "markdown",
   "id": "5b746600-777c-4416-9757-23159d8d33e5",
   "metadata": {},
   "source": [
    "This function is creating a dictionairy with morphological properties from a single morphological tag."
   ]
  },
  {
   "cell_type": "code",
   "execution_count": 26,
   "id": "a4405216-01af-4c30-b9cd-47f73bc7cb9f",
   "metadata": {},
   "outputs": [
    {
     "name": "stdout",
     "output_type": "stream",
     "text": [
      "{'Mood': 'Indicative',\n",
      " 'Number': 'Singular',\n",
      " 'Part of Speech': 'Verb',\n",
      " 'Person': 'Third Person',\n",
      " 'Tense': 'Present',\n",
      " 'Voice': 'Active'}\n"
     ]
    }
   ],
   "source": [
    "pp.pprint(morphkit.decode_tag('V-PAI-3S'))"
   ]
  },
  {
   "cell_type": "markdown",
   "id": "ac53cfbe-4bb0-4bb4-b964-59474b4dfcbc",
   "metadata": {},
   "source": [
    "## 5.2 - Compare morphological tags <a class=\"anchor\" id=\"bullet5x2\"></a>"
   ]
  },
  {
   "cell_type": "markdown",
   "id": "fe2d7872-6a20-4d3b-b2d3-839bf5ce6db7",
   "metadata": {},
   "source": [
    "The following function computes the weighted similarity between two morphological tags. It generates a composite score that reflects how closely the items match across their individual morphological features. Note that its primary purpose is to support sorting, not to provide an exact measure of similarity for the underlying word forms in their syntactic contexts. Any such estimate necessarily remains an approximation."
   ]
  },
  {
   "cell_type": "code",
   "execution_count": 27,
   "id": "55762516-7581-4e84-8653-251a2fba94c0",
   "metadata": {},
   "outputs": [
    {
     "name": "stdout",
     "output_type": "stream",
     "text": [
      "{'details': {'Case': {'similarity': 0.2,\n",
      "                      'tag1': 'Vocative',\n",
      "                      'tag2': 'Genitive',\n",
      "                      'weight': 4},\n",
      "             'Gender': {'similarity': 1.0,\n",
      "                        'tag1': 'Masculine',\n",
      "                        'tag2': 'Masculine',\n",
      "                        'weight': 2},\n",
      "             'Mood': {'similarity': 0, 'tag1': '', 'tag2': '', 'weight': 0},\n",
      "             'Number': {'similarity': 1.0,\n",
      "                        'tag1': 'Singular',\n",
      "                        'tag2': 'Singular',\n",
      "                        'weight': 3},\n",
      "             'Part of Speech': {'similarity': 1.0,\n",
      "                                'tag1': 'Noun',\n",
      "                                'tag2': 'Noun',\n",
      "                                'weight': 10},\n",
      "             'Person': {'similarity': 0, 'tag1': '', 'tag2': '', 'weight': 0},\n",
      "             'Suffix': {'similarity': 0, 'tag1': '', 'tag2': '', 'weight': 0},\n",
      "             'Tense': {'similarity': 0, 'tag1': '', 'tag2': '', 'weight': 0},\n",
      "             'Voice': {'similarity': 0, 'tag1': '', 'tag2': '', 'weight': 0}},\n",
      " 'overall_similarity': 0.8315789473684211,\n",
      " 'tag1': 'N-VSM-A',\n",
      " 'tag2': 'N-GSM'}\n"
     ]
    }
   ],
   "source": [
    "pp.pprint(morphkit.compare_tags('N-VSM-A', 'N-GSM'))"
   ]
  },
  {
   "cell_type": "markdown",
   "id": "85732382-24db-4f23-a0a6-a80e98799ab4",
   "metadata": {},
   "source": [
    "## 5.3 - Sort Morpheus blocks based on reference tag/lemma <a class=\"anchor\" id=\"bullet5x3\"></a>"
   ]
  },
  {
   "cell_type": "markdown",
   "id": "d3323f3e-5328-4eea-ab21-de0c1cb0ddf7",
   "metadata": {},
   "source": [
    "Now for the most intricate functon, the sorting of the Morpheus results, we need to provide both a morphological tag and an lemma as the criteria for sorting."
   ]
  },
  {
   "cell_type": "code",
   "execution_count": 25,
   "id": "1d7361d1-d4ba-43ef-80fe-852fdda66988",
   "metadata": {},
   "outputs": [
    {
     "name": "stdout",
     "output_type": "stream",
     "text": [
      "Before sorting:\n",
      "{'analyses': [{'case': ['nom', 'voc'],\n",
      "               'dialects': ['epic'],\n",
      "               'end_codes': ['os_h_on'],\n",
      "               'end_flags': ['indeclform'],\n",
      "               'gender': 'fem',\n",
      "               'lem_base_bc': 'di=os',\n",
      "               'lem_base_uc': 'δῖος',\n",
      "               'lem_full_bc': 'di=os',\n",
      "               'lem_full_uc': 'δῖος',\n",
      "               'morph': 'N-PRI',\n",
      "               'number': 'sg',\n",
      "               'pos': 'proper noun indeclinable',\n",
      "               'raw_bc': 'di/a',\n",
      "               'raw_uc': 'δία',\n",
      "               'stem_bc': 'di=a',\n",
      "               'stem_flags': ['indeclform'],\n",
      "               'stem_uc': 'δῖα',\n",
      "               'workw_bc': 'di=a',\n",
      "               'workw_uc': 'δῖα'},\n",
      "              {'case': ['nom', 'voc', 'acc'],\n",
      "               'end_bc': 'a',\n",
      "               'end_codes': ['os_h_on'],\n",
      "               'end_uc': 'α',\n",
      "               'gender': 'neut',\n",
      "               'lem_base_bc': 'di=os',\n",
      "               'lem_base_uc': 'δῖος',\n",
      "               'lem_full_bc': 'di=os',\n",
      "               'lem_full_uc': 'δῖος',\n",
      "               'morph': 'N-NPN/N-VPN/N-APN',\n",
      "               'number': 'pl',\n",
      "               'pos': 'noun',\n",
      "               'raw_bc': 'di/a',\n",
      "               'raw_uc': 'δία',\n",
      "               'stem_bc': 'di_',\n",
      "               'stem_codes': ['os_h_on'],\n",
      "               'stem_uc': 'δι—',\n",
      "               'workw_bc': 'di=a',\n",
      "               'workw_uc': 'δῖα'},\n",
      "              {'case': ['nom', 'voc', 'acc'],\n",
      "               'end_bc': 'a_',\n",
      "               'end_codes': ['os_h_on'],\n",
      "               'end_uc': 'α—',\n",
      "               'gender': 'fem',\n",
      "               'lem_base_bc': 'di=os',\n",
      "               'lem_base_uc': 'δῖος',\n",
      "               'lem_full_bc': 'di=os',\n",
      "               'lem_full_uc': 'δῖος',\n",
      "               'morph': 'N-NDF/N-VDF/N-ADF',\n",
      "               'number': 'dual',\n",
      "               'pos': 'noun',\n",
      "               'raw_bc': 'di/a',\n",
      "               'raw_uc': 'δία',\n",
      "               'stem_bc': 'di_',\n",
      "               'stem_codes': ['os_h_on'],\n",
      "               'stem_uc': 'δι—',\n",
      "               'workw_bc': 'di_/a_',\n",
      "               'workw_uc': 'δι— ́α—'},\n",
      "              {'case': ['nom', 'voc'],\n",
      "               'dialects': ['doric', 'aeolic'],\n",
      "               'end_bc': 'a_',\n",
      "               'end_codes': ['os_h_on'],\n",
      "               'end_uc': 'α—',\n",
      "               'gender': 'fem',\n",
      "               'lem_base_bc': 'di=os',\n",
      "               'lem_base_uc': 'δῖος',\n",
      "               'lem_full_bc': 'di=os',\n",
      "               'lem_full_uc': 'δῖος',\n",
      "               'morph': 'N-NSF-A/N-VSF-A',\n",
      "               'number': 'sg',\n",
      "               'pos': 'noun',\n",
      "               'raw_bc': 'di/a',\n",
      "               'raw_uc': 'δία',\n",
      "               'stem_bc': 'di_',\n",
      "               'stem_codes': ['os_h_on'],\n",
      "               'stem_uc': 'δι—',\n",
      "               'workw_bc': 'di_/a_',\n",
      "               'workw_uc': 'δι— ́α—'},\n",
      "              {'case': ['nom', 'voc', 'acc'],\n",
      "               'dialects': ['*eur.'],\n",
      "               'end_bc': 'a',\n",
      "               'end_codes': ['os_on'],\n",
      "               'end_uc': 'α',\n",
      "               'gender': 'neut',\n",
      "               'lem_base_bc': 'di=os',\n",
      "               'lem_base_uc': 'δῖος',\n",
      "               'lem_full_bc': 'di=os',\n",
      "               'lem_full_uc': 'δῖος',\n",
      "               'morph': 'N-NPN/N-VPN/N-APN',\n",
      "               'number': 'pl',\n",
      "               'pos': 'noun',\n",
      "               'raw_bc': 'di/a',\n",
      "               'raw_uc': 'δία',\n",
      "               'stem_bc': 'di_',\n",
      "               'stem_codes': ['os_on'],\n",
      "               'stem_uc': 'δι—',\n",
      "               'workw_bc': 'di=a',\n",
      "               'workw_uc': 'δῖα'},\n",
      "              {'end_codes': ['prep'],\n",
      "               'end_flags': ['indeclform'],\n",
      "               'lem_base_bc': 'dia/',\n",
      "               'lem_base_uc': 'διά',\n",
      "               'lem_full_bc': 'dia/',\n",
      "               'lem_full_uc': 'διά',\n",
      "               'morph': 'PREP',\n",
      "               'pos': 'preposition',\n",
      "               'raw_bc': 'di/a',\n",
      "               'raw_uc': 'δία',\n",
      "               'stem_bc': 'dia/',\n",
      "               'stem_flags': ['indeclform'],\n",
      "               'stem_uc': 'διά',\n",
      "               'workw_bc': 'dia/',\n",
      "               'workw_uc': 'διά'}],\n",
      " 'blocks': 6,\n",
      " 'raw_bc': 'di/a',\n",
      " 'raw_uc': 'δία'}\n",
      "\n",
      "After sorting:\n",
      "{'analyses': [{'end_codes': ['prep'],\n",
      "               'end_flags': ['indeclform'],\n",
      "               'lem_base_bc': 'dia/',\n",
      "               'lem_base_uc': 'διά',\n",
      "               'lem_full_bc': 'dia/',\n",
      "               'lem_full_uc': 'διά',\n",
      "               'morph': 'PREP',\n",
      "               'morph_similarity': '100',\n",
      "               'pos': 'preposition',\n",
      "               'raw_bc': 'di/a',\n",
      "               'raw_uc': 'δία',\n",
      "               'stem_bc': 'dia/',\n",
      "               'stem_flags': ['indeclform'],\n",
      "               'stem_uc': 'διά',\n",
      "               'workw_bc': 'dia/',\n",
      "               'workw_uc': 'διά'},\n",
      "              {'case': ['nom', 'voc'],\n",
      "               'dialects': ['epic'],\n",
      "               'end_codes': ['os_h_on'],\n",
      "               'end_flags': ['indeclform'],\n",
      "               'gender': 'fem',\n",
      "               'lem_base_bc': 'di=os',\n",
      "               'lem_base_uc': 'δῖος',\n",
      "               'lem_full_bc': 'di=os',\n",
      "               'lem_full_uc': 'δῖος',\n",
      "               'morph': 'N-PRI',\n",
      "               'morph_similarity': '0',\n",
      "               'number': 'sg',\n",
      "               'pos': 'proper noun indeclinable',\n",
      "               'raw_bc': 'di/a',\n",
      "               'raw_uc': 'δία',\n",
      "               'stem_bc': 'di=a',\n",
      "               'stem_flags': ['indeclform'],\n",
      "               'stem_uc': 'δῖα',\n",
      "               'workw_bc': 'di=a',\n",
      "               'workw_uc': 'δῖα'},\n",
      "              {'case': ['nom', 'voc', 'acc'],\n",
      "               'end_bc': 'a',\n",
      "               'end_codes': ['os_h_on'],\n",
      "               'end_uc': 'α',\n",
      "               'gender': 'neut',\n",
      "               'lem_base_bc': 'di=os',\n",
      "               'lem_base_uc': 'δῖος',\n",
      "               'lem_full_bc': 'di=os',\n",
      "               'lem_full_uc': 'δῖος',\n",
      "               'morph': 'N-NPN/N-VPN/N-APN',\n",
      "               'morph_similarity': '0/0/0',\n",
      "               'number': 'pl',\n",
      "               'pos': 'noun',\n",
      "               'raw_bc': 'di/a',\n",
      "               'raw_uc': 'δία',\n",
      "               'stem_bc': 'di_',\n",
      "               'stem_codes': ['os_h_on'],\n",
      "               'stem_uc': 'δι—',\n",
      "               'workw_bc': 'di=a',\n",
      "               'workw_uc': 'δῖα'},\n",
      "              {'case': ['nom', 'voc', 'acc'],\n",
      "               'end_bc': 'a_',\n",
      "               'end_codes': ['os_h_on'],\n",
      "               'end_uc': 'α—',\n",
      "               'gender': 'fem',\n",
      "               'lem_base_bc': 'di=os',\n",
      "               'lem_base_uc': 'δῖος',\n",
      "               'lem_full_bc': 'di=os',\n",
      "               'lem_full_uc': 'δῖος',\n",
      "               'morph': 'N-NDF/N-VDF/N-ADF',\n",
      "               'morph_similarity': '0/0/0',\n",
      "               'number': 'dual',\n",
      "               'pos': 'noun',\n",
      "               'raw_bc': 'di/a',\n",
      "               'raw_uc': 'δία',\n",
      "               'stem_bc': 'di_',\n",
      "               'stem_codes': ['os_h_on'],\n",
      "               'stem_uc': 'δι—',\n",
      "               'workw_bc': 'di_/a_',\n",
      "               'workw_uc': 'δι— ́α—'},\n",
      "              {'case': ['nom', 'voc'],\n",
      "               'dialects': ['doric', 'aeolic'],\n",
      "               'end_bc': 'a_',\n",
      "               'end_codes': ['os_h_on'],\n",
      "               'end_uc': 'α—',\n",
      "               'gender': 'fem',\n",
      "               'lem_base_bc': 'di=os',\n",
      "               'lem_base_uc': 'δῖος',\n",
      "               'lem_full_bc': 'di=os',\n",
      "               'lem_full_uc': 'δῖος',\n",
      "               'morph': 'N-NSF-A/N-VSF-A',\n",
      "               'morph_similarity': '0/0',\n",
      "               'number': 'sg',\n",
      "               'pos': 'noun',\n",
      "               'raw_bc': 'di/a',\n",
      "               'raw_uc': 'δία',\n",
      "               'stem_bc': 'di_',\n",
      "               'stem_codes': ['os_h_on'],\n",
      "               'stem_uc': 'δι—',\n",
      "               'workw_bc': 'di_/a_',\n",
      "               'workw_uc': 'δι— ́α—'},\n",
      "              {'case': ['nom', 'voc', 'acc'],\n",
      "               'dialects': ['*eur.'],\n",
      "               'end_bc': 'a',\n",
      "               'end_codes': ['os_on'],\n",
      "               'end_uc': 'α',\n",
      "               'gender': 'neut',\n",
      "               'lem_base_bc': 'di=os',\n",
      "               'lem_base_uc': 'δῖος',\n",
      "               'lem_full_bc': 'di=os',\n",
      "               'lem_full_uc': 'δῖος',\n",
      "               'morph': 'N-NPN/N-VPN/N-APN',\n",
      "               'morph_similarity': '0/0/0',\n",
      "               'number': 'pl',\n",
      "               'pos': 'noun',\n",
      "               'raw_bc': 'di/a',\n",
      "               'raw_uc': 'δία',\n",
      "               'stem_bc': 'di_',\n",
      "               'stem_codes': ['os_on'],\n",
      "               'stem_uc': 'δι—',\n",
      "               'workw_bc': 'di=a',\n",
      "               'workw_uc': 'δῖα'}],\n",
      " 'blocks': 6,\n",
      " 'raw_bc': 'di/a',\n",
      " 'raw_uc': 'δία'}\n"
     ]
    }
   ],
   "source": [
    "full_analysis=morphkit.analyse_word_with_morpheus(beta_code.greek_to_beta_code(u'δία'),api_endpoint)\n",
    "print ('Before sorting:')\n",
    "pp.pprint (full_analysis)\n",
    "N1904_morph=\"PREP\"\n",
    "N1904_lemma=\"διά\"\n",
    "\n",
    "full_analysis = morphkit.annotate_and_sort_analyses(\n",
    "    full_analysis,\n",
    "    reference_morph = N1904_morph,\n",
    "    reference_lemma = N1904_lemma\n",
    ")\n",
    "print ('\\nAfter sorting:')\n",
    "pp.pprint (full_analysis)"
   ]
  },
  {
   "cell_type": "markdown",
   "id": "dee63aa8-d831-4b39-8298-8975f4f4bab0",
   "metadata": {},
   "source": [
    "# 6 - Attribution and footnotes <a class=\"anchor\" id=\"bullet6\"></a>\n",
    "##### [Back to ToC](#TOC)\n",
    "\n",
    "\n",
    "\n",
    "This Jupyter notebook is released under the [Creative Commons Attribution 4.0 International (CC BY 4.0)](https://github.com/tonyjurg/N1904addons/blob/main/LICENSE.md)."
   ]
  },
  {
   "cell_type": "markdown",
   "id": "c2a5a712-7d2b-4d63-8589-756e93447e74",
   "metadata": {},
   "source": [
    "# 7 - Notebook version<a class=\"anchor\" id=\"bullet7\"></a>\n",
    "##### [Back to ToC](#TOC)\n",
    "\n",
    "<div style=\"float: left;\">\n",
    "  <table>\n",
    "    <tr>\n",
    "      <td><strong>Author</strong></td>\n",
    "      <td>Tony Jurg</td>\n",
    "    </tr>\n",
    "    <tr>\n",
    "      <td><strong>Version</strong></td>\n",
    "      <td>1.1</td>\n",
    "    </tr>\n",
    "    <tr>\n",
    "      <td><strong>Date</strong></td>\n",
    "      <td>5 July 2025</td>\n",
    "    </tr>\n",
    "  </table>\n",
    "</div>"
   ]
  }
 ],
 "metadata": {
  "kernelspec": {
   "display_name": "Python [conda env:Text-Fabric]",
   "language": "python",
   "name": "conda-env-Text-Fabric-py"
  },
  "language_info": {
   "codemirror_mode": {
    "name": "ipython",
    "version": 3
   },
   "file_extension": ".py",
   "mimetype": "text/x-python",
   "name": "python",
   "nbconvert_exporter": "python",
   "pygments_lexer": "ipython3",
   "version": "3.12.7"
  }
 },
 "nbformat": 4,
 "nbformat_minor": 5
}
