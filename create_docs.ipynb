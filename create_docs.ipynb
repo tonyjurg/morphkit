{
 "cells": [
  {
   "cell_type": "markdown",
   "id": "8cc67b90-c934-435a-94b4-70675f05be88",
   "metadata": {},
   "source": [
    "# Create documentation "
   ]
  },
  {
   "cell_type": "markdown",
   "id": "8c215caf-d5df-4555-9b16-fc50c0035347",
   "metadata": {
    "jp-MarkdownHeadingCollapsed": true,
    "tags": []
   },
   "source": [
    "## Table of content (ToC)<a class=\"anchor\" id=\"TOC\"></a>\n",
    "* <a href=\"#bullet1\">1 - Introduction</a>\n",
    "* <a href=\"#bullet2\">2 - Setting up testing environment</a>\n",
    "* <a href=\"#bullet3\">3 - Verification</a>    \n",
    "    * <a href=\"#bullet3x1\">3.1 - Package description</a>\n",
    "    * <a href=\"#bullet3x2\">3.2 - Package documentation (docstring)</a>\n",
    "    * <a href=\"#bullet3x3\">3.3 - Inspecting the library's documentation</a>\n",
    "    * <a href=\"#bullet3x4\">3.4 - Inspecting morphkit.\\_\\_all\\_\\_</a>\n",
    "    * <a href=\"#bullet3x5\">3.5 - Using inspect to check details</a>\n",
    "* <a href=\"#bullet4\">4 - Attribution and footnotes</a>\n",
    "* <a href=\"#bullet5\">5 - Required libraries</a>\n",
    "* <a href=\"#bullet6\">6 - Notebook version</a>\n"
   ]
  },
  {
   "cell_type": "markdown",
   "id": "3bae8e78-377d-4c97-9be0-21dad676aa5d",
   "metadata": {},
   "source": [
    "#  1 - Introduction <a class=\"anchor\" id=\"bullet1\"></a>\n",
    "##### [Back to ToC](#TOC)"
   ]
  },
  {
   "cell_type": "markdown",
   "id": "66ada142-3089-4c4f-9389-2742459f1b88",
   "metadata": {},
   "source": [
    "This notebook is used to create the documentation for the morpheus package.\n",
    "\n",
    "Inspiration is taken from sources like:\n",
    " - [github.com/marketplace/actions/sphinx-to-github-pages](https://github.com/marketplace/actions/sphinx-to-github-pages)"
   ]
  },
  {
   "cell_type": "markdown",
   "id": "467209a7-04ac-4941-87e6-7a82be5f75be",
   "metadata": {},
   "source": [
    "# 2 - Setting up doc creation environment <a class=\"anchor\" id=\"bullet2\"></a>\n",
    "##### [Back to ToC](#TOC)\n",
    "\n",
    "This only needs to be done once."
   ]
  },
  {
   "cell_type": "raw",
   "id": "46d51aac-e823-4c85-8fe3-7c78a5e58a4d",
   "metadata": {},
   "source": [
    "!python -m pip install --upgrade \\\n",
    "    sphinx sphinx-autobuild sphinx-rtd-theme \\\n",
    "    sphinx-autodoc-typehints sphinx-napoleon"
   ]
  },
  {
   "cell_type": "raw",
   "id": "60970438-4bc0-4443-a230-34d811b0c978",
   "metadata": {},
   "source": [
    "Collecting sphinx\n",
    "  Downloading sphinx-8.2.3-py3-none-any.whl.metadata (7.0 kB)\n",
    "Collecting sphinx-autobuild\n",
    "  Downloading sphinx_autobuild-2024.10.3-py3-none-any.whl.metadata (7.7 kB)\n",
    "Collecting sphinx-rtd-theme\n",
    "  Downloading sphinx_rtd_theme-3.0.2-py2.py3-none-any.whl.metadata (4.4 kB)\n",
    "Collecting sphinx-autodoc-typehints\n",
    "  Downloading sphinx_autodoc_typehints-3.2.0-py3-none-any.whl.metadata (8.0 kB)\n",
    "ERROR: Could not find a version that satisfies the requirement sphinx-napoleon (from versions: none)\n",
    "ERROR: No matching distribution found for sphinx-napoleon"
   ]
  },
  {
   "cell_type": "markdown",
   "id": "8e7ddef0-d212-4b6f-9917-069758ab4c76",
   "metadata": {},
   "source": [
    "Note the ERROR messages are a kind of expected. Napoleon is not a stand-alone PyPI package any more; the extension has been bundled inside Sphinx itself since 2016 (Sphinx 1.4). That is why `pip` can not find a project called sphinx-napoleon. See [pipy.org](https://pypi.org/project/sphinxcontrib-napoleon)."
   ]
  },
  {
   "cell_type": "markdown",
   "id": "59fd3c0c-d3e6-4c79-8484-4072c4650f83",
   "metadata": {},
   "source": [
    "## This is what I only had to run one time:"
   ]
  },
  {
   "cell_type": "raw",
   "id": "1978512a-1b1d-4a34-a9f0-788673a8953d",
   "metadata": {},
   "source": [
    "import subprocess\n",
    "import subprocess, shlex, textwrap\n",
    "\n",
    "def run_and_dump(cmd):\n",
    "    \"\"\"\n",
    "    Run *cmd* (a list of strings) and show:\n",
    "      • full command line\n",
    "      • exit code\n",
    "      • STDOUT  (trimmed if huge)\n",
    "      • STDERR  (trimmed if huge)\n",
    "    Never raises CalledProcessError – it prints instead.\n",
    "    \"\"\"\n",
    "    print(\"->\", \" \".join(shlex.quote(c) for c in cmd), \"\\n\")\n",
    "\n",
    "    try:\n",
    "        result = subprocess.run(\n",
    "            cmd,\n",
    "            capture_output=True,   # grab stdout & stderr\n",
    "            text=True,             # decode bytes → str\n",
    "            check=True             # will raise on non-zero\n",
    "        )\n",
    "        ok = True\n",
    "    except subprocess.CalledProcessError as e:\n",
    "        result, ok = e, False      # keep the object for inspection\n",
    "\n",
    "    print(\"EXIT CODE:\", result.returncode, \"(success)\" if ok else \"(failure)\")\n",
    "\n",
    "    def _show(label, data, limit=4000):\n",
    "        tail = \" … <truncated>\" if len(data) > limit else \"\"\n",
    "        print(f\"\\n--- {label} ---\\n\")\n",
    "        print(textwrap.indent(data[:limit], \" \"))\n",
    "        if tail:\n",
    "            print(tail)\n",
    "\n",
    "    _show(\"STDOUT\", result.stdout or \"(empty)\")\n",
    "    _show(\"STDERR\", result.stderr or \"(empty)\")\n",
    "\n",
    "\n",
    "\n",
    "cmd = [\n",
    "    \"sphinx-quickstart\", \"docs\",\n",
    "    \"--quiet\", \"--sep\", \"--no-batchfile\",\n",
    "    \"--project\", \"morphkit\",\n",
    "    \"--author\", \"Tony Jurg\",\n",
    "    \"--release\", \"0.6.0\", \"--version\", \"0.6.0\",\n",
    "    \"--ext-autodoc\", \"--ext-autosummary\", \"--ext-napoleon\",\n",
    "]\n",
    "\n",
    "run_and_dump(cmd)"
   ]
  },
  {
   "cell_type": "markdown",
   "id": "5614425c-f05a-4c82-9695-267d7d656020",
   "metadata": {},
   "source": [
    "## Define how Sphinx can import the package"
   ]
  },
  {
   "cell_type": "markdown",
   "id": "23bd9f2a-b22c-4964-b136-32a5a7bc896c",
   "metadata": {},
   "source": [
    "Once we have made sure sphinx is installed and can be loaded, we can progress. This is only required once."
   ]
  },
  {
   "cell_type": "raw",
   "id": "d21378c9-3552-4904-934a-320942093aa0",
   "metadata": {
    "scrolled": true
   },
   "source": [
    "import subprocess, sys\n",
    "\n",
    "subprocess.run(\n",
    "    [sys.executable, \"-m\", \"pip\", \"install\", \"--upgrade\",\n",
    "     \"sphinx\",                # core\n",
    "     \"sphinx-autodoc-typehints\",\n",
    "     \"sphinx-rtd-theme\"],     # optional theme\n",
    "    check=True\n",
    ")"
   ]
  },
  {
   "cell_type": "raw",
   "id": "764c66b2-4c13-470b-ab1f-e087754f6465",
   "metadata": {},
   "source": [
    "CompletedProcess(args=['C:\\\\Users\\\\tonyj\\\\anaconda3\\\\envs\\\\Text-Fabric\\\\python.exe', '-m', 'pip', 'install', '--upgrade', 'sphinx', 'sphinx-autodoc-typehints', 'sphinx-rtd-theme'], returncode=0)"
   ]
  },
  {
   "cell_type": "markdown",
   "id": "75e05a15-3d56-405b-ae22-74d180feaf2f",
   "metadata": {},
   "source": [
    "## Creating the docs"
   ]
  },
  {
   "cell_type": "markdown",
   "id": "67c972c3-8088-4148-b7d0-660218c22060",
   "metadata": {},
   "source": [
    "This needs to be run every time when this notebook is executed."
   ]
  },
  {
   "cell_type": "code",
   "execution_count": 1,
   "id": "be45e428-b878-4c23-98bc-2e2c4fa7df4d",
   "metadata": {},
   "outputs": [],
   "source": [
    "import sys, pathlib\n",
    "#sys.path.insert(0, str(pathlib.Path(__file__).parents[2] / \"src\"))   # Taken from example, I need to tweak this...\n",
    "sys.path.insert(0, '.')         # if package at repo root\n"
   ]
  },
  {
   "cell_type": "markdown",
   "id": "e0a9249c-7596-4998-951b-3c1c4352faa1",
   "metadata": {},
   "source": [
    "I will use `sys.executable` since this guarantees the command uses the same Conda interpreter as the notebook kernel."
   ]
  },
  {
   "cell_type": "code",
   "execution_count": 5,
   "id": "933b7646-a394-435b-9160-a4003242ff9e",
   "metadata": {
    "scrolled": true
   },
   "outputs": [
    {
     "name": "stdout",
     "output_type": "stream",
     "text": [
      "'C:\\Users\\tonyj\\anaconda3\\envs\\Text-Fabric\\python.exe' -m sphinx -b html docs/source docs/build/html\n",
      "EXIT CODE: 0\n",
      "\n",
      "─ STDOUT ─\n",
      "  \u001b[01mRunning Sphinx v8.2.3\u001b[39;49;00m\n",
      " \u001b[01mloading translations [en]... \u001b[39;49;00mdone\n",
      " \u001b[01mloading pickled environment... \u001b[39;49;00mThe configuration has changed (2 options: 'html_permalinks_icon', 'jquery_use_sri')\n",
      " done\n",
      " [autosummary] generating autosummary for: api\\autogen\\morphkit.analyse_morph_tag.rst, api\\autogen\\morphkit.analyse_pos.rst, api\\autogen\\morphkit.analyse_word_with_morpheus.rst, api\\autogen\\morphkit.analyze_morph_tag.rst, api\\autogen\\morphkit.analyze_pos.rst, api\\autogen\\morphkit.analyze_word_with_morpheus.rst, api\\autogen\\morphkit.annotate_and_sort_analyses.rst, api\\autogen\\morphkit.compare_tags.rst, api\\autogen\\morphkit.decode_tag.rst, api\\autogen\\morphkit.get_word_blocks.rst, ..., api\\morphkit.annotate_and_sort_analyses.rst, api\\morphkit.compare_tags.rst, api\\morphkit.decode_tag.rst, api\\morphkit.get_word_blocks.rst, api\\morphkit.init_compare_tags.rst, api\\morphkit.parse_word_block.rst, api\\morphkit.rst, index.rst, install.rst, usage.rst\n",
      " morphkit loaded\n",
      " \u001b[01mbuilding [mo]: \u001b[39;49;00mtargets for 0 po files that are out of date\n",
      " \u001b[01mwriting output... \u001b[39;49;00m\n",
      " \u001b[01mbuilding [html]: \u001b[39;49;00mtargets for 1 source files that are out of date\n",
      " \u001b[01mupdating environment: \u001b[39;49;00m0 added, 8 changed, 0 removed\n",
      " \u001b[2K\u001b[01mreading sources... \u001b[39;49;00m[ 12%] \u001b[35mapi/autogen/morphkit.analyze_morph_tag\u001b[39;49;00m\n",
      " \u001b[2K\u001b[01mreading sources... \u001b[39;49;00m[ 25%] \u001b[35mapi/autogen/morphkit.analyze_pos\u001b[39;49;00m\n",
      " \u001b[2K\u001b[01mreading sources... \u001b[39;49;00m[ 38%] \u001b[35mapi/autogen/morphkit.analyze_word_with_morpheus\u001b[39;49;00m\n",
      " \u001b[2K\u001b[01mreading sources... \u001b[39;49;00m[ 50%] \u001b[35mapi/functions\u001b[39;49;00m\n",
      " \u001b[2K\u001b[01mreading sources... \u001b[39;49;00m[ 62%] \u001b[35mapi/morphkit.analyze_morph_tag\u001b[39;49;00m\n",
      " \u001b[2K\u001b[01mreading sources... \u001b[39;49;00m[ 75%] \u001b[35mapi/morphkit.analyze_pos\u001b[39;49;00m\n",
      " \u001b[2K\u001b[01mreading sources... \u001b[39;49;00m[ 88%] \u001b[35mapi/morphkit.analyze_word_with_morpheus\u001b[39;49;00m\n",
      " \u001b[2K\u001b[01mreading sources... \u001b[39;49;00m[100%] \u001b[35mindex\u001b[39;49;00m\n",
      "\n",
      " \u001b[01mlooking for now-outdated files... \u001b[39;49;00mnone found\n",
      " \u001b[01mpickling environment... \u001b[39;49;00mdone\n",
      " \u001b[01mchecking consistency... \u001b[39;49;00mdone\n",
      " \u001b[01mpreparing documents... \u001b[39;49;00mdone\n",
      " \u001b[01mcopying assets... \u001b[39;49;00m\n",
      " \u001b[01mcopying static files... \u001b[39;49;00m\n",
      " Writing evaluated template result to C:\\Users\\tonyj\\OneDrive\\Documents\\GitHub\\morphkit\\docs\\build\\html\\_static\\basic.css\n",
      " Writing evaluated template result to C:\\Users\\tonyj\\OneDrive\\Documents\\GitHub\\morphkit\\docs\\build\\html\\_static\\documentation_options.js\n",
      " Writing evaluated template result to C:\\Users\\tonyj\\OneDrive\\Documents\\GitHub\\morphkit\\docs\\build\\html\\_static\\language_data.js\n",
      " Writing evaluated template result to C:\\Users\\tonyj\\OneDrive\\Documents\\GitHub\\morphkit\\docs\\build\\html\\_static\\js\\versions.js\n",
      " \u001b[01mcopying static files: \u001b[39;49;00mdone\n",
      " \u001b[01mcopying extra files... \u001b[39;49;00m\n",
      " \u001b[01mcopying extra files: \u001b[39;49;00mdone\n",
      " \u001b[01mcopying assets: \u001b[39;49;00mdone\n",
      " \u001b[2K\u001b[01mwriting output... \u001b[39;49;00m[ 12%] \u001b[32mapi/autogen/morphkit.analyze_morph_tag\u001b[39;49;00m\n",
      " \u001b[2K\u001b[01mwriting output... \u001b[39;49;00m[ 25%] \u001b[32mapi/autogen/morphkit.analyze_pos\u001b[39;49;00m\n",
      " \u001b[2K\u001b[01mwriting output... \u001b[39;49;00m[ 38%] \u001b[32mapi/autogen/morphkit.analyze_word_with_morpheus\u001b[39;49;00m\n",
      " \u001b[2K\u001b[01mwriting output... \u001b[39;49;00m[ 50%] \u001b[32mapi/functions\u001b[39;49;00m\n",
      " \u001b[2K\u001b[01mwriting output... \u001b[39;49;00m[ 62%] \u001b[32mapi/morphkit.analyze_morph_tag\u001b[39;49;00m\n",
      " \u001b[2K\u001b[01mwriting output... \u001b[39;49;00m[ 75%] \u001b[32mapi/morphkit.analyze_pos\u001b[39;49;00m\n",
      " \u001b[2K\u001b[01mwriting output... \u001b[39;49;00m[ 88%] \u001b[32mapi/morphkit.analyze_word_with_morpheus\u001b[39;49;00m\n",
      " \u001b[2K\u001b[01mwriting output... \u001b[39;49;00m[100%] \u001b[32mindex\u001b[39;49;00m\n",
      "\n",
      " \u001b[01mgenerating indices... \u001b[39;49;00mgenindex py-modindex done\n",
      " \u001b[2K\u001b[01mhighlighting module code... \u001b[39;49;00m[ 11%] \u001b[94mmorphkit.analyse_morph_tag\u001b[39;49;00m\n",
      " \u001b[2K\u001b[01mhighlighting module code... \u001b[39;49;00m[ 22%] \u001b[94mmorphkit.analyse_pos\u001b[39;49;00m\n",
      " \u001b[2K\u001b[01mhighlighting module code... \u001b[39;49;00m[ 33%] \u001b[94mmorphkit.analyse_word_with_morpheus\u001b[39;49;00m\n",
      " \u001b[2K\u001b[01mhighlighting module code... \u001b[39;49;00m[ 44%] \u001b[94mmorphkit.annotate_and_sort_analyses\u001b[39;49;00m\n",
      " \u001b[2K\u001b[01mhighlighting module code... \u001b[39;49;00m[ 56%] \u001b[94mmorphkit.decode_tag\u001b[39;49;00m\n",
      " \u001b[2K\u001b[01mhighlighting module code... \u001b[39;49;00m[ 67%] \u001b[94mmorphkit.get_word_blocks\u001b[39;49;00m\n",
      " \u001b[2K\u001b[01mhighlighting module code... \u001b[39;49;00m[ 78%] \u001b[94mmorphkit.init_compare_tags\u001b[39;49;00m\n",
      " \u001b[2K\u001b[01mhighlighting module code... \u001b[39;49;00m[ 89%] \u001b[94mmorphkit.parse_word_block\u001b[39;49;00m\n",
      " \u001b[2K\u001b[01mhighlighting module code... \u001b[39;49;00m[100%] \u001b[94mmorphkit.split_into_raw_blocks\u001b[39;49;00m\n",
      "\n",
      " \u001b[01mwriting additional pages... \u001b[39;49;00msearch done\n",
      " \u001b[01mdumping search index in English (code: en)... \u001b[39;49;00mdone\n",
      " \u001b[01mdumping object inventory... \u001b[39;49;00mdone\n",
      " \u001b[01mbuild succeeded, 25 warnings.\u001b[39;49;00m\n",
      "\n",
      " The HTML pages are in docs\\build\\html.\n",
      "\n",
      "\n",
      "─ STDERR ─\n",
      "  \u001b[91mWARNING: logo file '_static/logo.png' does not exist\u001b[39;49;00m\n",
      " \u001b[91mWARNING: [autosummary] failed to import morphkit.analyze_morph_tag.\n",
      " Possible hints:\n",
      " * ImportError: \n",
      " * ModuleNotFoundError: No module named 'morphkit.analyze_morph_tag'\n",
      " * AttributeError: module 'morphkit' has no attribute 'analyze_morph_tag'\u001b[39;49;00m\n",
      " \u001b[91mWARNING: [autosummary] failed to import morphkit.analyze_pos.\n",
      " Possible hints:\n",
      " * ImportError: \n",
      " * AttributeError: module 'morphkit' has no attribute 'analyze_pos'\n",
      " * ModuleNotFoundError: No module named 'morphkit.analyze_pos'\u001b[39;49;00m\n",
      " \u001b[91mWARNING: [autosummary] failed to import morphkit.analyze_word_with_morpheus.\n",
      " Possible hints:\n",
      " * AttributeError: module 'morphkit' has no attribute 'analyze_word_with_morpheus'\n",
      " * ImportError: \n",
      " * ModuleNotFoundError: No module named 'morphkit.analyze_word_with_morpheus'\u001b[39;49;00m\n",
      " \u001b[91mWARNING: autodoc: failed to import function 'analyze_morph_tag' from module 'morphkit'; the following exception was raised:\n",
      " Traceback (most recent call last):\n",
      "   File \"C:\\Users\\tonyj\\anaconda3\\envs\\Text-Fabric\\Lib\\site-packages\\sphinx\\util\\inspect.py\", line 461, in safe_getattr\n",
      "     return getattr(obj, name, *defargs)\n",
      "            ^^^^^^^^^^^^^^^^^^^^^^^^^^^^\n",
      " AttributeError: module 'morphkit' has no attribute 'analyze_morph_tag'. Did you mean: 'analyse_morph_tag'?\n",
      "\n",
      " The above exception was the direct cause of the following exception:\n",
      "\n",
      " Traceback (most recent call last):\n",
      "   File \"C:\\Users\\tonyj\\anaconda3\\envs\\Text-Fabric\\Lib\\site-packages\\sphinx\\ext\\autodoc\\importer.py\", line 288, in import_object\n",
      "     obj = attrgetter(obj, mangled_name)\n",
      "           ^^^^^^^^^^^^^^^^^^^^^^^^^^^^^\n",
      "   File \"C:\\Users\\tonyj\\anaconda3\\envs\\Text-Fabric\\Lib\\site-packages\\sphinx\\ext\\autodoc\\__init__.py\", line 384, in get_attr\n",
      "     return autodoc_attrgetter(obj, name, *defargs, registry=self.env._registry)\n",
      "            ^^^^^^^^^^^^^^^^^^^^^^^^^^^^^^^^^^^^^^^^^^^^^^^^^^^^^^^^^^^^^^^^^^^^\n",
      "   File \"C:\\Users\\tonyj\\anaconda3\\envs\\Text-Fabric\\Lib\\site-packages\\sphinx\\ext\\autodoc\\__init__.py\", line 3149, in autodoc_attrgetter\n",
      "     return safe_getattr(obj, name, *defargs)\n",
      "            ^^^^^^^^^^^^^^^^^^^^^^^^^^^^^^^^^\n",
      "   File \"C:\\Users\\tonyj\\anaconda3\\envs\\Text-Fabric\\Lib\\site-packages\\sphinx\\util\\inspect.py\", line 477, in safe_getattr\n",
      "     raise AttributeError(name) from exc\n",
      " AttributeError: analyze_morph_tag\n",
      "  [autodoc.import_object]\u001b[39;49;00m\n",
      " \u001b[91mWARNING: autodoc: failed to import function 'analyze_pos' from module 'morphkit'; the following exception was raised:\n",
      " Traceback (most recent call last):\n",
      "   File \"C:\\Users\\tonyj\\anaconda3\\envs\\Text-Fabric\\Lib\\site-packages\\sphinx\\util\\inspect.py\", line 461, in safe_getattr\n",
      "     return getattr(obj, name, *defargs)\n",
      "            ^^^^^^^^^^^^^^^^^^^^^^^^^^^^\n",
      " AttributeError: module 'morphkit' has no attribute 'analyze_pos'. Did you mean: 'analyse_pos'?\n",
      "\n",
      " The above exception was the direct cause of the following exception:\n",
      "\n",
      " Traceback (most recent call last):\n",
      "   File \"C:\\Users\\tonyj\\anaconda3\\envs\\Text-Fabric\\Lib\\site-packages\\sphinx\\ext\\autodoc\\importer.py\", line 288, in import_object\n",
      "     obj = attrgetter(obj, mangled_name)\n",
      "           ^^^^^^^^^^^^^^^^^^^^^^^^^^^^^\n",
      "   File \"C:\\Users\\tonyj\\anaconda3\\envs\\Text-Fabric\\Lib\\site-packages\\sphinx\\ext\\autodoc\\__init__.py\", line 384, in get_attr\n",
      "     return autodoc_attrgetter(obj, name, *defargs, registry=self.env._registry)\n",
      "            ^^^^^^^^^^^^^^^^^^^^^^^^^^^^^^^^^^^^^^^^^^^^^^^^^^^^^^^^^^^^^^^^^^^^\n",
      "   File \"C:\\Users\\tonyj\\anaconda3\\envs\\Text-Fabric\\Lib\\site-packages\\sphinx\\ext\\autodoc\\__init__.py\", line 3149, in autodoc_attrgetter\n",
      "     return safe_getattr(obj, name, *defargs)\n",
      "            ^^^^^^^^^^^^^^^^^^^^^^^^^^^^^^^^^\n",
      "   File \"C:\\Users\\tonyj\\anaconda3\\envs\\Text-Fabric\\Lib\\site-packages\\sphinx\\util\\inspect.py\", line 477, in safe_getattr\n",
      "     raise AttributeError(name) from exc\n",
      " AttributeError: analyze_pos\n",
      "  [autodoc.import_object]\u001b[39;49;00m\n",
      " \u001b[91mWARNING: autodoc: failed to import function 'analyze_word_with_morpheus' from module 'morphkit'; the following exception was raised:\n",
      " Traceback (most recent call last):\n",
      "   File \"C:\\Users\\tonyj\\anaconda3\\envs\\Text-Fabric\\Lib\\site-packages\\sphinx\\util\\inspect.py\", line 461, in safe_getattr\n",
      "     return getattr(obj, name, *defargs)\n",
      "            ^^^^^^^^^^^^^^^^^^^^^^^^^^^^\n",
      " AttributeError: module 'morphkit' has no attribute 'analyze_word_with_morpheus'. Did you mean: 'analyse_word_with_morpheus'?\n",
      "\n",
      " The above exception was the direct cause of the following exception:\n",
      "\n",
      " Traceback (most recent call last):\n",
      "   File \"C:\\Users\\tonyj\\anaconda3\\envs\\Text-Fabric\\Lib\\site-packages\\sphinx\\ext\\autodoc\\importer.py\", line 288, in import_object\n",
      "     obj = attrgetter(obj, mangled_name)\n",
      "           ^^^^^^^^^^^^^^^^^^^^^^^^^^^^^\n",
      "   File \"C:\\Users\\tonyj\\anaconda3\\envs\\Text-Fabric\\Lib\\site-packages\\sphinx\\ext\\autodoc\\__init__.py\", line 384, in get_attr\n",
      "     return autodoc_attrgetter(obj, name, *defargs, registry=self.env._registry)\n",
      "            ^^^^^^^^^^^^^^^^^^^^^^^^^^^^^^^^^^^^^^^^^^^^^^^^^^^^^^^^^^^^^^^^^^^^\n",
      "   File \"C:\\Users\\tonyj\\anaconda3\\envs\\Text-Fabric\\Lib\\site-packages\\sphinx\\ext\\autodoc\\__init__.py\", line 3149, in autodoc_attrgetter\n",
      "     return safe_getattr(obj, name, *defargs)\n",
      "            ^^^^^^^^^^^^^^^^^^^^^^^^^^^^^^^^^\n",
      "   File \"C:\\Users\\tonyj\\anaconda3\\envs\\Text-Fabric\\Lib\\site-packages\\sphinx\\util\\inspect.py\", line 477, in safe_getattr\n",
      "     raise AttributeError(name) from exc\n",
      " AttributeError: analyze_word_with_morpheus\n",
      "  [autodoc.import_object]\u001b[39;49;00m\n",
      " \u001b[91mC:\\Users\\tonyj\\OneDrive\\Documents\\GitHub\\morphkit\\morphkit\\analyse_morph_tag.py:docstring of morphkit.analyse_morph_tag.analyse_morph_tag:1: WARNING: duplicate object description of morphkit.analyse_morph_tag, other instance in api/autogen/morphkit.analyse_morph_tag, use :no-index: for one of them\u001b[39;49;00m\n",
      " \u001b[91mC:\\Users\\tonyj\\OneDrive\\Documents\\GitHub\\morphkit\\morphkit\\analyse_pos.py:docstring of morphkit.analyse_pos.analyse_pos:1: WARNING: duplicate object description of morphkit.analyse_pos, other instance in api/autogen/morphkit.analyse_pos, use :no-index: for one of them\u001b[39;49;00m\n",
      " \u001b[91mC:\\Users\\tonyj\\OneDrive\\Documents\\GitHub\\morphkit\\morphkit\\analyse_word_with_morpheus.py:docstring of morphkit.analyse_word_with_morpheus.analyse_word_with_morpheus:1: WARNING: duplicate object description of morphkit.analyse_word_with_morpheus, other instance in api/autogen/morphkit.analyse_word_with_morpheus, use :no-index: for one of them\u001b[39;49;00m\n",
      " \u001b[91mWARNING: autodoc: failed to import function 'analyze_morph_tag' from module 'morphkit'; the following exception was raised:\n",
      " Traceback (most recent call last):\n",
      "   File \"C:\\Users\\tonyj\\anaconda3\\envs\\Text-Fabric\\Lib\\site-packages\\sphinx\\util\\inspect.py\", line 461, in safe_getattr\n",
      "     return getattr(obj, name, *defargs)\n",
      "            ^^^^^^^^^^^^^^^^^^^^^^^^^^^^\n",
      " AttributeError: module 'morphkit' has no attribute 'analyze_morph_tag'. Did you mean: 'analyse_morph_tag'?\n",
      "\n",
      " The above exception was the direct cause of the following exception:\n",
      "\n",
      " Traceback (most recent call last):\n",
      "   File \"C:\\Users\\tonyj\\anaconda3\\envs\\Text-Fabric\\Lib\\site-packages\\sphinx\\ext\\autodoc\\importer.py\", line 288, in import_object\n",
      "     obj = attrgetter(obj, mangled_name)\n",
      "           ^^^^^^^^^^^^^^^^^^^^^^^^^^^^^\n",
      "   File \"C:\\Users\\tonyj\\anaconda3\\envs\\Text-Fabric\\Lib\\site-packages\\sphinx\\ext\\autodoc\\__init__.py\", line 384, in get_attr\n",
      "     return autodoc_attrgetter(obj, name, *defargs, registry=self.env._registry)\n",
      "            ^^^^^^^^^^^^^^^^^^^^^^^^^^^^^^^^^^^^^^^^^^^^^^^^^^^^^^^^^^^^^^^^^^^^\n",
      "   File \"C:\\Users\\tonyj\\anaconda3\\envs\\Text-Fabric\\Lib\\site-packages\\sphinx\\ext\\autodoc\\__init__.py\", line 3149, in autodoc_attrgetter\n",
      "     return safe_getattr(obj, name, *defargs)\n",
      "            ^^^^^^^^^^^^^^^^^^^^^^^^^^^^^^^^^\n",
      "   File \"C:\\Users\\tonyj\\anaconda3\\envs\\Text-Fabric\\Lib\\site-packages\\sphinx\\util\\inspect.py\", line 477, in safe_getattr\n",
      "     raise AttributeError(name) from exc\n",
      " AttributeError: analyze_morph_tag\n",
      "  [autodoc.import_object]\u001b[39;49;00m\n",
      " \u001b[91mWARNING: autodoc: failed to import function 'analyze_pos' from module 'morphkit'; the following exception was raised:\n",
      " Traceback (most recent call last):\n",
      "   File \"C:\\Users\\tonyj\\anaconda3\\envs\\Text-Fabric\\Lib\\site-packages\\sphinx\\util\\inspect.py\", line 461, in safe_getattr\n",
      "     return getattr(obj, name, *defargs)\n",
      "            ^^^^^^^^^^^^^^^^^^^^^^^^^^^^\n",
      " AttributeError: module 'morphkit' has no attribute 'analyze_pos'. Did you mean: 'analyse_pos'?\n",
      "\n",
      " The above exception was the direct cause of the following exception:\n",
      "\n",
      " Traceback (most recent call last):\n",
      "   File \"C:\\Users\\tonyj\\anaconda3\\envs\\Text-Fabric\\Lib\\site-packages\\sphinx\\ext\\autodoc\\importer.py\", line 288, in import_object\n",
      "     obj = attrgetter(obj, mangled_name)\n",
      "           ^^^^^^^^^^^^^^^^^^^^^^^^^^^^^\n",
      "   File \"C:\\Users\\tonyj\\anaconda3\\envs\\Text-Fabric\\Lib\\site-packages\\sphinx\\ext\\autodoc\\__init__.py\", line 384, in get_attr\n",
      "     return autodoc_attrgetter(obj, name, *defargs, registry=self.env._registry)\n",
      "            ^^^^^^^^^^^^^^^^^^^^^^^^^^^^^^^^^^^^^^^^^^^^^^^^^^^^^^^^^^^^^^^^^^^^\n",
      "   File \"C:\\Users\\tonyj\\anaconda3\\envs\\Text-Fabric\\Lib\\site-packages\\sphinx\\ext\\autodoc\\__init__.py\", line 3149, in autodoc_attrgetter\n",
      "     return safe_getattr(obj, name, *defargs)\n",
      "            ^^^^^^^^^^^^^^^^^^^^^^^^^^^^^^^^^\n",
      "   File \"C:\\Users\\tonyj\\anaconda3\\envs\\Text-Fabric\\Lib\\site-packages\\sphinx\\util\\inspect.py\", line 477, in safe_getattr\n",
      "     raise AttributeError(name) from exc\n",
      " AttributeError: analyze_pos\n",
      "  [autodoc.import_object]\u001b[39;49;00m\n",
      " \u001b[91mWARNING: autodoc: failed to import function 'analyze_word_with_morpheus' from module 'morphkit'; the following exception was raised:\n",
      " Traceback (most recent call last):\n",
      "   File \"C:\\Users\\tonyj\\anaconda3\\envs\\Text-Fabric\\Lib\\site-packages\\sphinx\\util\\inspect.py\", line 461, in safe_getattr\n",
      "     return getattr(obj, name, *defargs)\n",
      "            ^^^^^^^^^^^^^^^^^^^^^^^^^^^^\n",
      " AttributeError: module 'morphkit' has no attribute 'analyze_word_with_morpheus'. Did you mean: 'analyse_word_with_morpheus'?\n",
      "\n",
      " The above exception was the direct cause of the following exception:\n",
      "\n",
      " Traceback (most recent call last):\n",
      "   File \"C:\\Users\\tonyj\\anaconda3\\envs\\Text-Fabric\\Lib\\site-packages\\sphinx\\ext\\autodoc\\importer.py\", line 288, in import_object\n",
      "     obj = attrgetter(obj, mangled_name)\n",
      "           ^^^^^^^^^^^^^^^^^^^^^^^^^^^^^\n",
      "   File \"C:\\Users\\tonyj\\anaconda3\\envs\\Text-Fabric\\Lib\\site-packages\\sphinx\\ext\\autodoc\\__init__.py\", line 384, in get_attr\n",
      "     return autodoc_attrgetter(obj, name, *defargs, registry=self.env._registry)\n",
      "            ^^^^^^^^^^^^^^^^^^^^^^^^^^^^^^^^^^^^^^^^^^^^^^^^^^^^^^^^^^^^^^^^^^^^\n",
      "   File \"C:\\Users\\tonyj\\anaconda3\\envs\\Text-Fabric\\Lib\\site-packages\\sphinx\\ext\\autodoc\\__init__.py\", line 3149, in autodoc_attrgetter\n",
      "     return safe_getattr(obj, name, *defargs)\n",
      "            ^^^^^^^^^^^^^^^^^^^^^^^^^^^^^^^^^\n",
      "   File \"C:\\Users\\tonyj\\anaconda3\\envs\\Text-Fabric\\Lib\\site-packages\\sphinx\\util\\inspect.py\", line 477, in safe_getattr\n",
      "     raise AttributeError(name) from exc\n",
      " AttributeError: analyze_word_with_morpheus\n",
      "  [autodoc.import_object]\u001b[39;49;00m\n",
      " \u001b[91mC:\\Users\\tonyj\\OneDrive\\Documents\\GitHub\\morphkit\\docs\\source\\index.rst:2: WARNING: image file not readable: _static/logo.png [image.not_readable]\u001b[39;49;00m\n",
      " \u001b[91mC:\\Users\\tonyj\\OneDrive\\Documents\\GitHub\\morphkit\\docs\\source\\api\\autogen\\morphkit.analyze_morph_tag.rst: WARNING: document isn't included in any toctree [toc.not_included]\u001b[39;49;00m\n",
      " \u001b[91mC:\\Users\\tonyj\\OneDrive\\Documents\\GitHub\\morphkit\\docs\\source\\api\\autogen\\morphkit.analyze_pos.rst: WARNING: document isn't included in any toctree [toc.not_included]\u001b[39;49;00m\n",
      " \u001b[91mC:\\Users\\tonyj\\OneDrive\\Documents\\GitHub\\morphkit\\docs\\source\\api\\autogen\\morphkit.analyze_word_with_morpheus.rst: WARNING: document isn't included in any toctree [toc.not_included]\u001b[39;49;00m\n",
      " \u001b[91mC:\\Users\\tonyj\\OneDrive\\Documents\\GitHub\\morphkit\\docs\\source\\api\\functions.rst: WARNING: document isn't included in any toctree [toc.not_included]\u001b[39;49;00m\n",
      " \u001b[91mC:\\Users\\tonyj\\OneDrive\\Documents\\GitHub\\morphkit\\docs\\source\\api\\modules.rst: WARNING: document isn't included in any toctree [toc.not_included]\u001b[39;49;00m\n",
      " \u001b[91mC:\\Users\\tonyj\\OneDrive\\Documents\\GitHub\\morphkit\\docs\\source\\api\\morphkit.analyze_morph_tag.rst: WARNING: document isn't included in any toctree [toc.not_included]\u001b[39;49;00m\n",
      " \u001b[91mC:\\Users\\tonyj\\OneDrive\\Documents\\GitHub\\morphkit\\docs\\source\\api\\morphkit.analyze_pos.rst: WARNING: document isn't included in any toctree [toc.not_included]\u001b[39;49;00m\n",
      " \u001b[91mC:\\Users\\tonyj\\OneDrive\\Documents\\GitHub\\morphkit\\docs\\source\\api\\morphkit.analyze_word_with_morpheus.rst: WARNING: document isn't included in any toctree [toc.not_included]\u001b[39;49;00m\n",
      " \u001b[91mC:\\Users\\tonyj\\OneDrive\\Documents\\GitHub\\morphkit\\docs\\source\\api\\morphkit.compare_tags.rst: WARNING: document isn't included in any toctree [toc.not_included]\u001b[39;49;00m\n",
      " \u001b[91mWARNING: unsupported theme option 'sidebar_title' given\u001b[39;49;00m\n",
      " \u001b[91mWARNING: unsupported theme option 'description' given\u001b[39;49;00m\n",
      "\n"
     ]
    }
   ],
   "source": [
    "import subprocess, sys, shlex, textwrap\n",
    "\n",
    "def run_show(cmd):\n",
    "    res = subprocess.run(cmd, capture_output=True, text=True)\n",
    "    print(\" \".join(shlex.quote(c) for c in cmd))\n",
    "    print(\"EXIT CODE:\", res.returncode)\n",
    "    print(\"\\n─ STDOUT ─\\n\", textwrap.indent(res.stdout or \"(empty)\", \" \"))\n",
    "    print(\"\\n─ STDERR ─\\n\", textwrap.indent(res.stderr or \"(empty)\", \" \"))\n",
    "\n",
    "def run_with_dump(cmd):\n",
    "    \"\"\"Run *cmd* (list) and always print exit code, STDOUT, STDERR.\"\"\"\n",
    "    print(\" \".join(shlex.quote(c) for c in cmd), \"\\n\")\n",
    "    \n",
    "    result = subprocess.run(cmd, capture_output=True, text=True)\n",
    "    \n",
    "    print(\"EXIT CODE:\", result.returncode)\n",
    "    print(\"\\n--- STDOUT ---\\n\",\n",
    "          textwrap.indent(result.stdout or \"(empty)\", \" \"))\n",
    "    print(\"\\n--- STDERR ---\\n\",\n",
    "          textwrap.indent(result.stderr or \"(empty)\", \" \"))\n",
    "    \n",
    "    # re-raise on error if you still want the notebook to fail:\n",
    "    if result.returncode != 0:\n",
    "        raise subprocess.CalledProcessError(\n",
    "            result.returncode, cmd, result.stdout, result.stderr\n",
    "        )\n",
    "\n",
    "# ────────────────── run the Sphinx build again ──────────────────\n",
    "cmd = [\n",
    "    sys.executable,    # Absolute path of the current Python interpreter\n",
    "    \"-m\", \"sphinx\",    # run Sphinx as a module\n",
    "    \"-b\", \"html\",      # builder = static HTML\n",
    "    \"docs/source\",     # Configuration / source directory => the folder that contains conf.py \n",
    "    \"docs/build/html\"  # Output directory for the generated site.\n",
    "]\n",
    "\n",
    "#run_with_dump(cmd)\n",
    "run_show(cmd)\n"
   ]
  },
  {
   "cell_type": "markdown",
   "id": "87c12e2a-2915-47ab-9284-a8f397f92108",
   "metadata": {},
   "source": [
    "## Now also create word document"
   ]
  },
  {
   "cell_type": "code",
   "execution_count": 3,
   "id": "24ba472e-6490-4196-9aa7-b001540b3c00",
   "metadata": {},
   "outputs": [
    {
     "name": "stdout",
     "output_type": "stream",
     "text": [
      "\u001b[01mRunning Sphinx v8.2.3\u001b[39;49;00m\n",
      "\u001b[01mloading translations [en]... \u001b[39;49;00mdone\n",
      "\u001b[01mloading pickled environment... \u001b[39;49;00mThe configuration has changed (2 options: 'html_permalinks_icon', 'jquery_use_sri')\n",
      "done\n",
      "[autosummary] generating autosummary for: api\\autogen\\morphkit.analyze_morph_tag.rst, api\\autogen\\morphkit.analyze_pos.rst, api\\autogen\\morphkit.analyze_word_with_morpheus.rst, api\\autogen\\morphkit.annotate_and_sort_analyses.rst, api\\autogen\\morphkit.compare_tags.rst, api\\autogen\\morphkit.decode_tag.rst, api\\autogen\\morphkit.get_word_blocks.rst, api\\autogen\\morphkit.init_compare_tags.rst, api\\autogen\\morphkit.parse_word_block.rst, api\\autogen\\morphkit.split_into_raw_blocks.rst, ..., api\\morphkit.annotate_and_sort_analyses.rst, api\\morphkit.compare_tags.rst, api\\morphkit.decode_tag.rst, api\\morphkit.get_word_blocks.rst, api\\morphkit.init_compare_tags.rst, api\\morphkit.parse_word_block.rst, api\\morphkit.rst, index.rst, install.rst, usage.rst\n",
      "morphkit loaded\n",
      "\u001b[01mbuilding [mo]: \u001b[39;49;00mtargets for 0 po files that are out of date\n",
      "\u001b[01mwriting output... \u001b[39;49;00m\n",
      "\u001b[01mbuilding [singlehtml]: \u001b[39;49;00mall documents\n",
      "\u001b[01mupdating environment: \u001b[39;49;00m0 added, 8 changed, 0 removed\n",
      "\u001b[2K\u001b[01mreading sources... \u001b[39;49;00m[ 12%] \u001b[35mapi/autogen/morphkit.analyze_morph_tag\u001b[39;49;00m\n",
      "\u001b[2K\u001b[01mreading sources... \u001b[39;49;00m[ 25%] \u001b[35mapi/autogen/morphkit.analyze_pos\u001b[39;49;00m\n",
      "\u001b[2K\u001b[01mreading sources... \u001b[39;49;00m[ 38%] \u001b[35mapi/autogen/morphkit.parse_word_block\u001b[39;49;00m\n",
      "\u001b[2K\u001b[01mreading sources... \u001b[39;49;00m[ 50%] \u001b[35mapi/functions\u001b[39;49;00m\n",
      "\u001b[2K\u001b[01mreading sources... \u001b[39;49;00m[ 62%] \u001b[35mapi/morphkit.analyze_morph_tag\u001b[39;49;00m\n",
      "\u001b[2K\u001b[01mreading sources... \u001b[39;49;00m[ 75%] \u001b[35mapi/morphkit.analyze_pos\u001b[39;49;00m\n",
      "\u001b[2K\u001b[01mreading sources... \u001b[39;49;00m[ 88%] \u001b[35mapi/morphkit.parse_word_block\u001b[39;49;00m\n",
      "\u001b[2K\u001b[01mreading sources... \u001b[39;49;00m[100%] \u001b[35mindex\u001b[39;49;00m\n",
      "\n",
      "\u001b[01mlooking for now-outdated files... \u001b[39;49;00mnone found\n",
      "\u001b[01mpickling environment... \u001b[39;49;00mdone\n",
      "\u001b[01mchecking consistency... \u001b[39;49;00mdone\n",
      "\u001b[01mpreparing documents... \u001b[39;49;00mdone\n",
      "\u001b[01mcopying assets... \u001b[39;49;00m\n",
      "\u001b[01mcopying static files... \u001b[39;49;00m\n",
      "Writing evaluated template result to C:\\Users\\tonyj\\OneDrive\\Documents\\GitHub\\morphkit\\docs\\build\\singlehtml\\_static\\basic.css\n",
      "Writing evaluated template result to C:\\Users\\tonyj\\OneDrive\\Documents\\GitHub\\morphkit\\docs\\build\\singlehtml\\_static\\documentation_options.js\n",
      "Writing evaluated template result to C:\\Users\\tonyj\\OneDrive\\Documents\\GitHub\\morphkit\\docs\\build\\singlehtml\\_static\\language_data.js\n",
      "Writing evaluated template result to C:\\Users\\tonyj\\OneDrive\\Documents\\GitHub\\morphkit\\docs\\build\\singlehtml\\_static\\js\\versions.js\n",
      "\u001b[01mcopying static files: \u001b[39;49;00mdone\n",
      "\u001b[01mcopying extra files... \u001b[39;49;00m\n",
      "\u001b[01mcopying extra files: \u001b[39;49;00mdone\n",
      "\u001b[01mcopying assets: \u001b[39;49;00mdone\n",
      "\u001b[01massembling single document... \u001b[39;49;00m\n",
      "\u001b[32mindex\u001b[39;49;00m\n",
      " \u001b[32minstall\u001b[39;49;00m\n",
      " \u001b[32musage\u001b[39;49;00m\n",
      "  \u001b[32mgenindex\u001b[39;49;00m\n",
      "   \u001b[32mapi/autogen/morphkit.analyze_pos\u001b[39;49;00m\n",
      "   \u001b[32mapi/autogen/morphkit.analyze_morph_tag\u001b[39;49;00m\n",
      "   \u001b[32mapi/autogen/morphkit.analyze_word_with_morpheus\u001b[39;49;00m\n",
      "   \u001b[32mapi/autogen/morphkit.annotate_and_sort_analyses\u001b[39;49;00m\n",
      "   \u001b[32mapi/autogen/morphkit.compare_tags\u001b[39;49;00m\n",
      "   \u001b[32mapi/autogen/morphkit.decode_tag\u001b[39;49;00m\n",
      "   \u001b[32mapi/autogen/morphkit.get_word_blocks\u001b[39;49;00m\n",
      "   \u001b[32mapi/autogen/morphkit.init_compare_tags\u001b[39;49;00m\n",
      "   \u001b[32mapi/autogen/morphkit.parse_word_block\u001b[39;49;00m\n",
      "   \u001b[32mapi/autogen/morphkit.split_into_raw_blocks\u001b[39;49;00m\n",
      "\u001b[01massembling single document: \u001b[39;49;00mdone\n",
      "\u001b[01mwriting... \u001b[39;49;00mdone\n",
      "\u001b[01mwriting additional files... \u001b[39;49;00mdone\n",
      "\u001b[01mcopying static files... \u001b[39;49;00m\n",
      "Writing evaluated template result to C:\\Users\\tonyj\\OneDrive\\Documents\\GitHub\\morphkit\\docs\\build\\singlehtml\\_static\\basic.css\n",
      "Writing evaluated template result to C:\\Users\\tonyj\\OneDrive\\Documents\\GitHub\\morphkit\\docs\\build\\singlehtml\\_static\\documentation_options.js\n",
      "Writing evaluated template result to C:\\Users\\tonyj\\OneDrive\\Documents\\GitHub\\morphkit\\docs\\build\\singlehtml\\_static\\language_data.js\n",
      "Writing evaluated template result to C:\\Users\\tonyj\\OneDrive\\Documents\\GitHub\\morphkit\\docs\\build\\singlehtml\\_static\\js\\versions.js\n",
      "\u001b[01mcopying static files: \u001b[39;49;00mdone\n",
      "\u001b[01mcopying extra files... \u001b[39;49;00m\n",
      "\u001b[01mcopying extra files: \u001b[39;49;00mdone\n",
      "\u001b[01mdumping object inventory... \u001b[39;49;00mdone\n",
      "\u001b[01mbuild succeeded, 25 warnings.\u001b[39;49;00m\n",
      "\n",
      "The HTML page is in docs\\build\\singlehtml.\n"
     ]
    },
    {
     "name": "stderr",
     "output_type": "stream",
     "text": [
      "\u001b[91mWARNING: logo file '_static/logo.png' does not exist\u001b[39;49;00m\n",
      "\u001b[91mC:\\Users\\tonyj\\OneDrive\\Documents\\GitHub\\morphkit\\morphkit\\analyze_morph_tag.py:docstring of morphkit.analyze_morph_tag.analyze_morph_tag:1: WARNING: duplicate object description of morphkit.analyze_morph_tag, other instance in api/morphkit.analyze_morph_tag, use :no-index: for one of them\u001b[39;49;00m\n",
      "\u001b[91mC:\\Users\\tonyj\\OneDrive\\Documents\\GitHub\\morphkit\\morphkit\\analyze_pos.py:docstring of morphkit.analyze_pos.analyze_pos:1: WARNING: duplicate object description of morphkit.analyze_pos, other instance in api/morphkit.analyze_pos, use :no-index: for one of them\u001b[39;49;00m\n",
      "\u001b[91mC:\\Users\\tonyj\\OneDrive\\Documents\\GitHub\\morphkit\\morphkit\\parse_word_block.py:docstring of morphkit.parse_word_block.parse_word_block:1: WARNING: duplicate object description of morphkit.parse_word_block, other instance in api/morphkit.parse_word_block, use :no-index: for one of them\u001b[39;49;00m\n",
      "\u001b[91mC:\\Users\\tonyj\\OneDrive\\Documents\\GitHub\\morphkit\\morphkit\\parse_word_block.py:docstring of morphkit.parse_word_block.parse_word_block:43: WARNING: malformed hyperlink target. [docutils]\u001b[39;49;00m\n",
      "\u001b[91mC:\\Users\\tonyj\\OneDrive\\Documents\\GitHub\\morphkit\\morphkit\\analyze_morph_tag.py:docstring of morphkit.analyze_morph_tag.analyze_morph_tag:1: WARNING: duplicate object description of morphkit.analyze_morph_tag, other instance in api/autogen/morphkit.analyze_morph_tag, use :no-index: for one of them\u001b[39;49;00m\n",
      "\u001b[91mC:\\Users\\tonyj\\OneDrive\\Documents\\GitHub\\morphkit\\morphkit\\analyze_pos.py:docstring of morphkit.analyze_pos.analyze_pos:1: WARNING: duplicate object description of morphkit.analyze_pos, other instance in api/autogen/morphkit.analyze_pos, use :no-index: for one of them\u001b[39;49;00m\n",
      "\u001b[91mC:\\Users\\tonyj\\OneDrive\\Documents\\GitHub\\morphkit\\morphkit\\analyze_word_with_morpheus.py:docstring of morphkit.analyze_word_with_morpheus.analyze_word_with_morpheus:1: WARNING: duplicate object description of morphkit.analyze_word_with_morpheus, other instance in api/morphkit.analyze_word_with_morpheus, use :no-index: for one of them\u001b[39;49;00m\n",
      "\u001b[91mC:\\Users\\tonyj\\OneDrive\\Documents\\GitHub\\morphkit\\morphkit\\annotate_and_sort_analyses.py:docstring of morphkit.annotate_and_sort_analyses.annotate_and_sort_analyses:1: WARNING: duplicate object description of morphkit.annotate_and_sort_analyses, other instance in api/morphkit.annotate_and_sort_analyses, use :no-index: for one of them\u001b[39;49;00m\n",
      "\u001b[91mC:\\Users\\tonyj\\OneDrive\\Documents\\GitHub\\morphkit\\morphkit\\init_compare_tags.py:docstring of morphkit.init_compare_tags.init_compare_tags.<locals>.compare_tags:1: WARNING: duplicate object description of morphkit.compare_tags, other instance in api/morphkit.compare_tags, use :no-index: for one of them\u001b[39;49;00m\n",
      "\u001b[91mC:\\Users\\tonyj\\OneDrive\\Documents\\GitHub\\morphkit\\morphkit\\decode_tag.py:docstring of morphkit.decode_tag.decode_tag:1: WARNING: duplicate object description of morphkit.decode_tag, other instance in api/morphkit.decode_tag, use :no-index: for one of them\u001b[39;49;00m\n",
      "\u001b[91mC:\\Users\\tonyj\\OneDrive\\Documents\\GitHub\\morphkit\\morphkit\\get_word_blocks.py:docstring of morphkit.get_word_blocks.get_word_blocks:1: WARNING: duplicate object description of morphkit.get_word_blocks, other instance in api/morphkit.get_word_blocks, use :no-index: for one of them\u001b[39;49;00m\n",
      "\u001b[91mC:\\Users\\tonyj\\OneDrive\\Documents\\GitHub\\morphkit\\morphkit\\analyze_morph_tag.py:docstring of morphkit.analyze_morph_tag.analyze_morph_tag:1: WARNING: duplicate object description of morphkit.analyze_morph_tag, other instance in api/functions, use :no-index: for one of them\u001b[39;49;00m\n",
      "\u001b[91mC:\\Users\\tonyj\\OneDrive\\Documents\\GitHub\\morphkit\\morphkit\\analyze_pos.py:docstring of morphkit.analyze_pos.analyze_pos:1: WARNING: duplicate object description of morphkit.analyze_pos, other instance in api/functions, use :no-index: for one of them\u001b[39;49;00m\n",
      "\u001b[91mC:\\Users\\tonyj\\OneDrive\\Documents\\GitHub\\morphkit\\morphkit\\parse_word_block.py:docstring of morphkit.parse_word_block.parse_word_block:1: WARNING: duplicate object description of morphkit.parse_word_block, other instance in api/autogen/morphkit.parse_word_block, use :no-index: for one of them\u001b[39;49;00m\n",
      "\u001b[91mC:\\Users\\tonyj\\OneDrive\\Documents\\GitHub\\morphkit\\morphkit\\parse_word_block.py:docstring of morphkit.parse_word_block.parse_word_block:43: WARNING: malformed hyperlink target. [docutils]\u001b[39;49;00m\n",
      "\u001b[91mC:\\Users\\tonyj\\OneDrive\\Documents\\GitHub\\morphkit\\docs\\source\\index.rst:2: WARNING: image file not readable: _static/logo.png [image.not_readable]\u001b[39;49;00m\n",
      "\u001b[91mC:\\Users\\tonyj\\OneDrive\\Documents\\GitHub\\morphkit\\docs\\source\\api\\functions.rst: WARNING: document isn't included in any toctree [toc.not_included]\u001b[39;49;00m\n",
      "\u001b[91mC:\\Users\\tonyj\\OneDrive\\Documents\\GitHub\\morphkit\\docs\\source\\api\\modules.rst: WARNING: document isn't included in any toctree [toc.not_included]\u001b[39;49;00m\n",
      "\u001b[91mC:\\Users\\tonyj\\OneDrive\\Documents\\GitHub\\morphkit\\docs\\source\\api\\morphkit.compare_tags.rst: WARNING: document isn't included in any toctree [toc.not_included]\u001b[39;49;00m\n",
      "\u001b[91mWARNING: unsupported theme option 'sidebar_title' given\u001b[39;49;00m\n",
      "\u001b[91mWARNING: unsupported theme option 'description' given\u001b[39;49;00m\n",
      "\u001b[91mWARNING: unsupported theme option 'sidebar_title' given\u001b[39;49;00m\n",
      "\u001b[91mWARNING: unsupported theme option 'description' given\u001b[39;49;00m\n",
      "\u001b[91mC:\\Users\\tonyj\\OneDrive\\Documents\\GitHub\\morphkit\\docs\\source\\index.rst: WARNING: toctree contains ref to nonexisting file 'genindex' [toc.not_readable]\u001b[39;49;00m\n"
     ]
    }
   ],
   "source": [
    "# Build a single HTML - this will create one index.html with all content\n",
    "!sphinx-build -b singlehtml docs/source docs/build/singlehtml"
   ]
  },
  {
   "cell_type": "code",
   "execution_count": 4,
   "id": "59eae6ba-5d98-4ab4-9a1d-3dc75ff43315",
   "metadata": {},
   "outputs": [
    {
     "name": "stderr",
     "output_type": "stream",
     "text": [
      "[WARNING] Could not fetch resource _static/logo.png: replacing image with description\n"
     ]
    }
   ],
   "source": [
    "# Convert to docx: functions.docx will contain every function’s signature and docstring, formatted as a Word document.\n",
    "!pandoc docs/build/singlehtml/index.html -o docs/build/functions.docx"
   ]
  },
  {
   "cell_type": "markdown",
   "id": "37d431d9-1dbb-41af-b444-b55aa99994b5",
   "metadata": {},
   "source": [
    "## Next steps (pulling in the API)"
   ]
  },
  {
   "cell_type": "markdown",
   "id": "67c5a258-2397-4f2e-a0f5-7e71d37684ce",
   "metadata": {},
   "source": [
    "Next one I execute once"
   ]
  },
  {
   "cell_type": "raw",
   "id": "cf1ed98a-1b86-4ba1-8cc9-0ed15607f2e6",
   "metadata": {},
   "source": [
    "import subprocess, sys\n",
    "\n",
    "# ---------- STEP 1: create API stub .rst files -----------------------------\n",
    "subprocess.run([\n",
    "    \"sphinx-apidoc\",       # CLI command\n",
    "    \"-o\", \"docs/source/api\",       # output folder for the .rst stubs\n",
    "    \"morphkit\",                # package path to scan\n",
    "    \"--force\",                     # overwrite existing stubs\n",
    "    \"--module-first\"               # put module header before members\n",
    "], check=True)                     # raise CalledProcessError on non-zero exit"
   ]
  },
  {
   "cell_type": "code",
   "execution_count": 5,
   "id": "33e13afe-e0fd-4047-aac5-4cc0316e1e27",
   "metadata": {},
   "outputs": [
    {
     "name": "stdout",
     "output_type": "stream",
     "text": [
      "Succes: Docs generated → docs/build/html/index.html\n"
     ]
    }
   ],
   "source": [
    "import subprocess, sys\n",
    "\n",
    "# ---------- STEP 2: build HTML documentation ------------------------------\n",
    "subprocess.run([\n",
    "    sys.executable, \"-m\", \"sphinx\",   # call sphinx via *this* Python\n",
    "    \"-b\", \"html\",                     # builder = HTML\n",
    "    \"docs/source\",                    # source/conf.py directory\n",
    "    \"docs/build/html\"                 # output directory\n",
    "], check=True)\n",
    "\n",
    "print(\"Succes: Docs generated → docs/build/html/index.html\")\n"
   ]
  },
  {
   "cell_type": "code",
   "execution_count": 6,
   "id": "f9dd56be-a2b7-4aac-93f7-f4a7d3c7e642",
   "metadata": {},
   "outputs": [
    {
     "name": "stdout",
     "output_type": "stream",
     "text": [
      "Theme changed to Furo. Rebuilding the docs.\n"
     ]
    }
   ],
   "source": [
    "from pathlib import Path\n",
    "\n",
    "conf_path = Path(\"docs/source/conf.py\")\n",
    "conf_text = conf_path.read_text()\n",
    "conf_text = conf_text.replace('html_theme = \"alabaster\"', 'html_theme = \"furo\"')\n",
    "conf_path.write_text(conf_text)\n",
    "print(\"Theme changed to Furo. Rebuilding the docs.\")"
   ]
  },
  {
   "cell_type": "markdown",
   "id": "cdf78dbb-3ac7-40cf-b987-dada037f116b",
   "metadata": {},
   "source": [
    "# 4 - Attribution and footnotes <a class=\"anchor\" id=\"bullet4\"></a>\n",
    "##### [Back to ToC](#TOC)\n",
    "\n",
    "- [PEP 257 – Docstring Conventions](https://peps.python.org/pep-0257): the original standard for all Python projects\n",
    "- [Google Python Style Guide – Docstrings section](https://google.github.io/styleguide/pyguide.html?utm_source=chatgpt.com)\n",
    "- [Autogenerate HTML / PDF docs](https://www.sphinx-doc.org/en/master/usage/extensions/autodoc.html)"
   ]
  },
  {
   "cell_type": "markdown",
   "id": "a3cccd4e-bdf7-432e-af91-c174b92923b4",
   "metadata": {
    "tags": []
   },
   "source": [
    "# 5 - Required libraries<a class=\"anchor\" id=\"bullet5\"></a>\n",
    "##### [Back to ToC](#TOC)\n",
    "\n",
    "Since the scripts in this notebook utilize Text-Fabric, [it requires currently (Apr 2025) Python >=3.9.0](https://pypi.org/project/text-fabric) together with the following libraries installed in the environment:\n",
    "\n",
    "    beta_code\n",
    "    unicodedata\n",
    "    \n",
    "You can install any missing library from within Jupyter Notebook using either`pip` or `pip3`."
   ]
  },
  {
   "cell_type": "markdown",
   "id": "39a7170c-2873-47bb-9284-4c88d5f6062f",
   "metadata": {},
   "source": [
    "# 6 - Notebook version<a class=\"anchor\" id=\"bullet6\"></a>\n",
    "##### [Back to ToC](#TOC)\n",
    "\n",
    "<div style=\"float: left;\">\n",
    "  <table>\n",
    "    <tr>\n",
    "      <td><strong>Author</strong></td>\n",
    "      <td>Tony Jurg</td>\n",
    "    </tr>\n",
    "    <tr>\n",
    "      <td><strong>Version</strong></td>\n",
    "      <td>1.2</td>\n",
    "    </tr>\n",
    "    <tr>\n",
    "      <td><strong>Date</strong></td>\n",
    "      <td>2 May 2025</td>\n",
    "    </tr>\n",
    "  </table>\n",
    "</div>"
   ]
  }
 ],
 "metadata": {
  "kernelspec": {
   "display_name": "Python [conda env:Text-Fabric]",
   "language": "python",
   "name": "conda-env-Text-Fabric-py"
  },
  "language_info": {
   "codemirror_mode": {
    "name": "ipython",
    "version": 3
   },
   "file_extension": ".py",
   "mimetype": "text/x-python",
   "name": "python",
   "nbconvert_exporter": "python",
   "pygments_lexer": "ipython3",
   "version": "3.12.7"
  }
 },
 "nbformat": 4,
 "nbformat_minor": 5
}
